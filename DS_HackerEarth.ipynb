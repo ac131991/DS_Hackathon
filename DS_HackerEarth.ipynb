{
 "cells": [
  {
   "cell_type": "code",
   "execution_count": 1,
   "metadata": {},
   "outputs": [],
   "source": [
    "# Supressing the warnings.\n",
    "\n",
    "import warnings\n",
    "warnings.filterwarnings('ignore')"
   ]
  },
  {
   "cell_type": "code",
   "execution_count": 2,
   "metadata": {},
   "outputs": [],
   "source": [
    "# Importing the required libraries and packages.\n",
    "\n",
    "import numpy as np\n",
    "import pandas as pd\n",
    "import matplotlib.pyplot as plt\n",
    "import seaborn as sns\n",
    "pd.set_option('display.max_columns', 250)\n",
    "pd.set_option('display.max_rows', 500)\n",
    "pd.set_option('display.width', 1000)\n",
    "\n",
    "import sklearn\n",
    "from sklearn.model_selection import train_test_split\n",
    "from sklearn.preprocessing import StandardScaler\n",
    "from sklearn.model_selection import KFold\n",
    "from sklearn.model_selection import StratifiedKFold\n",
    "from sklearn.metrics import roc_auc_score\n",
    "from sklearn.linear_model import LogisticRegression\n",
    "from sklearn.model_selection import cross_val_score, cross_val_predict\n",
    "\n",
    "from sklearn import metrics\n",
    "from sklearn.metrics import confusion_matrix\n",
    "from sklearn.metrics import precision_score, recall_score\n",
    "from sklearn.metrics import precision_recall_curve\n",
    "from sklearn.metrics import classification_report\n",
    "from sklearn.metrics import accuracy_score\n",
    "\n",
    "from sklearn.model_selection import GridSearchCV\n",
    "from sklearn.ensemble import RandomForestClassifier\n",
    "\n",
    "import xgboost as xgb\n",
    "from xgboost import XGBClassifier\n",
    "\n",
    "from sklearn.neighbors import KNeighborsClassifier"
   ]
  },
  {
   "cell_type": "code",
   "execution_count": 3,
   "metadata": {},
   "outputs": [
    {
     "data": {
      "text/html": [
       "<div>\n",
       "<style scoped>\n",
       "    .dataframe tbody tr th:only-of-type {\n",
       "        vertical-align: middle;\n",
       "    }\n",
       "\n",
       "    .dataframe tbody tr th {\n",
       "        vertical-align: top;\n",
       "    }\n",
       "\n",
       "    .dataframe thead th {\n",
       "        text-align: right;\n",
       "    }\n",
       "</style>\n",
       "<table border=\"1\" class=\"dataframe\">\n",
       "  <thead>\n",
       "    <tr style=\"text-align: right;\">\n",
       "      <th></th>\n",
       "      <th>INCIDENT_ID</th>\n",
       "      <th>DATE</th>\n",
       "      <th>X_1</th>\n",
       "      <th>X_2</th>\n",
       "      <th>X_3</th>\n",
       "      <th>X_4</th>\n",
       "      <th>X_5</th>\n",
       "      <th>X_6</th>\n",
       "      <th>X_7</th>\n",
       "      <th>X_8</th>\n",
       "      <th>X_9</th>\n",
       "      <th>X_10</th>\n",
       "      <th>X_11</th>\n",
       "      <th>X_12</th>\n",
       "      <th>X_13</th>\n",
       "      <th>X_14</th>\n",
       "      <th>X_15</th>\n",
       "      <th>MULTIPLE_OFFENSE</th>\n",
       "    </tr>\n",
       "  </thead>\n",
       "  <tbody>\n",
       "    <tr>\n",
       "      <th>0</th>\n",
       "      <td>CR_102659</td>\n",
       "      <td>04-JUL-04</td>\n",
       "      <td>0</td>\n",
       "      <td>36</td>\n",
       "      <td>34</td>\n",
       "      <td>2</td>\n",
       "      <td>1</td>\n",
       "      <td>5</td>\n",
       "      <td>6</td>\n",
       "      <td>1</td>\n",
       "      <td>6</td>\n",
       "      <td>1</td>\n",
       "      <td>174</td>\n",
       "      <td>1.0</td>\n",
       "      <td>92</td>\n",
       "      <td>29</td>\n",
       "      <td>36</td>\n",
       "      <td>0</td>\n",
       "    </tr>\n",
       "    <tr>\n",
       "      <th>1</th>\n",
       "      <td>CR_189752</td>\n",
       "      <td>18-JUL-17</td>\n",
       "      <td>1</td>\n",
       "      <td>37</td>\n",
       "      <td>37</td>\n",
       "      <td>0</td>\n",
       "      <td>0</td>\n",
       "      <td>11</td>\n",
       "      <td>17</td>\n",
       "      <td>1</td>\n",
       "      <td>6</td>\n",
       "      <td>1</td>\n",
       "      <td>236</td>\n",
       "      <td>1.0</td>\n",
       "      <td>103</td>\n",
       "      <td>142</td>\n",
       "      <td>34</td>\n",
       "      <td>1</td>\n",
       "    </tr>\n",
       "    <tr>\n",
       "      <th>2</th>\n",
       "      <td>CR_184637</td>\n",
       "      <td>15-MAR-17</td>\n",
       "      <td>0</td>\n",
       "      <td>3</td>\n",
       "      <td>2</td>\n",
       "      <td>3</td>\n",
       "      <td>5</td>\n",
       "      <td>1</td>\n",
       "      <td>0</td>\n",
       "      <td>2</td>\n",
       "      <td>3</td>\n",
       "      <td>1</td>\n",
       "      <td>174</td>\n",
       "      <td>1.0</td>\n",
       "      <td>110</td>\n",
       "      <td>93</td>\n",
       "      <td>34</td>\n",
       "      <td>1</td>\n",
       "    </tr>\n",
       "    <tr>\n",
       "      <th>3</th>\n",
       "      <td>CR_139071</td>\n",
       "      <td>13-FEB-09</td>\n",
       "      <td>0</td>\n",
       "      <td>33</td>\n",
       "      <td>32</td>\n",
       "      <td>2</td>\n",
       "      <td>1</td>\n",
       "      <td>7</td>\n",
       "      <td>1</td>\n",
       "      <td>1</td>\n",
       "      <td>6</td>\n",
       "      <td>1</td>\n",
       "      <td>249</td>\n",
       "      <td>1.0</td>\n",
       "      <td>72</td>\n",
       "      <td>29</td>\n",
       "      <td>34</td>\n",
       "      <td>1</td>\n",
       "    </tr>\n",
       "    <tr>\n",
       "      <th>4</th>\n",
       "      <td>CR_109335</td>\n",
       "      <td>13-APR-05</td>\n",
       "      <td>0</td>\n",
       "      <td>33</td>\n",
       "      <td>32</td>\n",
       "      <td>2</td>\n",
       "      <td>1</td>\n",
       "      <td>8</td>\n",
       "      <td>3</td>\n",
       "      <td>0</td>\n",
       "      <td>5</td>\n",
       "      <td>1</td>\n",
       "      <td>174</td>\n",
       "      <td>0.0</td>\n",
       "      <td>112</td>\n",
       "      <td>29</td>\n",
       "      <td>43</td>\n",
       "      <td>1</td>\n",
       "    </tr>\n",
       "    <tr>\n",
       "      <th>5</th>\n",
       "      <td>CR_96263</td>\n",
       "      <td>07-APR-03</td>\n",
       "      <td>0</td>\n",
       "      <td>45</td>\n",
       "      <td>45</td>\n",
       "      <td>10</td>\n",
       "      <td>3</td>\n",
       "      <td>1</td>\n",
       "      <td>0</td>\n",
       "      <td>1</td>\n",
       "      <td>6</td>\n",
       "      <td>1</td>\n",
       "      <td>303</td>\n",
       "      <td>1.0</td>\n",
       "      <td>72</td>\n",
       "      <td>62</td>\n",
       "      <td>34</td>\n",
       "      <td>1</td>\n",
       "    </tr>\n",
       "    <tr>\n",
       "      <th>6</th>\n",
       "      <td>CR_131400</td>\n",
       "      <td>22-JAN-08</td>\n",
       "      <td>0</td>\n",
       "      <td>30</td>\n",
       "      <td>35</td>\n",
       "      <td>7</td>\n",
       "      <td>3</td>\n",
       "      <td>7</td>\n",
       "      <td>1</td>\n",
       "      <td>0</td>\n",
       "      <td>5</td>\n",
       "      <td>1</td>\n",
       "      <td>174</td>\n",
       "      <td>0.0</td>\n",
       "      <td>112</td>\n",
       "      <td>29</td>\n",
       "      <td>43</td>\n",
       "      <td>1</td>\n",
       "    </tr>\n",
       "    <tr>\n",
       "      <th>7</th>\n",
       "      <td>CR_11981</td>\n",
       "      <td>14-MAY-93</td>\n",
       "      <td>0</td>\n",
       "      <td>8</td>\n",
       "      <td>7</td>\n",
       "      <td>7</td>\n",
       "      <td>3</td>\n",
       "      <td>9</td>\n",
       "      <td>8</td>\n",
       "      <td>0</td>\n",
       "      <td>5</td>\n",
       "      <td>1</td>\n",
       "      <td>316</td>\n",
       "      <td>1.0</td>\n",
       "      <td>72</td>\n",
       "      <td>62</td>\n",
       "      <td>34</td>\n",
       "      <td>1</td>\n",
       "    </tr>\n",
       "    <tr>\n",
       "      <th>8</th>\n",
       "      <td>CR_184134</td>\n",
       "      <td>21-AUG-16</td>\n",
       "      <td>0</td>\n",
       "      <td>49</td>\n",
       "      <td>49</td>\n",
       "      <td>6</td>\n",
       "      <td>5</td>\n",
       "      <td>8</td>\n",
       "      <td>3</td>\n",
       "      <td>1</td>\n",
       "      <td>1</td>\n",
       "      <td>1</td>\n",
       "      <td>316</td>\n",
       "      <td>1.0</td>\n",
       "      <td>103</td>\n",
       "      <td>14</td>\n",
       "      <td>34</td>\n",
       "      <td>1</td>\n",
       "    </tr>\n",
       "    <tr>\n",
       "      <th>9</th>\n",
       "      <td>CR_32634</td>\n",
       "      <td>25-AUG-96</td>\n",
       "      <td>1</td>\n",
       "      <td>4</td>\n",
       "      <td>4</td>\n",
       "      <td>6</td>\n",
       "      <td>5</td>\n",
       "      <td>15</td>\n",
       "      <td>10</td>\n",
       "      <td>0</td>\n",
       "      <td>5</td>\n",
       "      <td>2</td>\n",
       "      <td>145</td>\n",
       "      <td>1.0</td>\n",
       "      <td>103</td>\n",
       "      <td>29</td>\n",
       "      <td>34</td>\n",
       "      <td>0</td>\n",
       "    </tr>\n",
       "  </tbody>\n",
       "</table>\n",
       "</div>"
      ],
      "text/plain": [
       "  INCIDENT_ID       DATE  X_1  X_2  X_3  X_4  X_5  X_6  X_7  X_8  X_9  X_10  X_11  X_12  X_13  X_14  X_15  MULTIPLE_OFFENSE\n",
       "0   CR_102659  04-JUL-04    0   36   34    2    1    5    6    1    6     1   174   1.0    92    29    36                 0\n",
       "1   CR_189752  18-JUL-17    1   37   37    0    0   11   17    1    6     1   236   1.0   103   142    34                 1\n",
       "2   CR_184637  15-MAR-17    0    3    2    3    5    1    0    2    3     1   174   1.0   110    93    34                 1\n",
       "3   CR_139071  13-FEB-09    0   33   32    2    1    7    1    1    6     1   249   1.0    72    29    34                 1\n",
       "4   CR_109335  13-APR-05    0   33   32    2    1    8    3    0    5     1   174   0.0   112    29    43                 1\n",
       "5    CR_96263  07-APR-03    0   45   45   10    3    1    0    1    6     1   303   1.0    72    62    34                 1\n",
       "6   CR_131400  22-JAN-08    0   30   35    7    3    7    1    0    5     1   174   0.0   112    29    43                 1\n",
       "7    CR_11981  14-MAY-93    0    8    7    7    3    9    8    0    5     1   316   1.0    72    62    34                 1\n",
       "8   CR_184134  21-AUG-16    0   49   49    6    5    8    3    1    1     1   316   1.0   103    14    34                 1\n",
       "9    CR_32634  25-AUG-96    1    4    4    6    5   15   10    0    5     2   145   1.0   103    29    34                 0"
      ]
     },
     "execution_count": 3,
     "metadata": {},
     "output_type": "execute_result"
    }
   ],
   "source": [
    "# Importing the dataset from the working directory.\n",
    "\n",
    "df = pd.read_csv('train.csv')\n",
    "df.head(10)"
   ]
  },
  {
   "cell_type": "code",
   "execution_count": 4,
   "metadata": {},
   "outputs": [
    {
     "data": {
      "text/plain": [
       "(23856, 18)"
      ]
     },
     "execution_count": 4,
     "metadata": {},
     "output_type": "execute_result"
    }
   ],
   "source": [
    "# Looking at the dimensions of the dataframe.\n",
    "\n",
    "df.shape"
   ]
  },
  {
   "cell_type": "code",
   "execution_count": 5,
   "metadata": {},
   "outputs": [
    {
     "name": "stdout",
     "output_type": "stream",
     "text": [
      "<class 'pandas.core.frame.DataFrame'>\n",
      "RangeIndex: 23856 entries, 0 to 23855\n",
      "Data columns (total 18 columns):\n",
      "INCIDENT_ID         23856 non-null object\n",
      "DATE                23856 non-null object\n",
      "X_1                 23856 non-null int64\n",
      "X_2                 23856 non-null int64\n",
      "X_3                 23856 non-null int64\n",
      "X_4                 23856 non-null int64\n",
      "X_5                 23856 non-null int64\n",
      "X_6                 23856 non-null int64\n",
      "X_7                 23856 non-null int64\n",
      "X_8                 23856 non-null int64\n",
      "X_9                 23856 non-null int64\n",
      "X_10                23856 non-null int64\n",
      "X_11                23856 non-null int64\n",
      "X_12                23674 non-null float64\n",
      "X_13                23856 non-null int64\n",
      "X_14                23856 non-null int64\n",
      "X_15                23856 non-null int64\n",
      "MULTIPLE_OFFENSE    23856 non-null int64\n",
      "dtypes: float64(1), int64(15), object(2)\n",
      "memory usage: 3.3+ MB\n"
     ]
    }
   ],
   "source": [
    "# Looking at the datatypes of each column.\n",
    "\n",
    "df.info()"
   ]
  },
  {
   "cell_type": "code",
   "execution_count": 6,
   "metadata": {},
   "outputs": [
    {
     "data": {
      "text/plain": [
       "1    22788\n",
       "0     1068\n",
       "Name: MULTIPLE_OFFENSE, dtype: int64"
      ]
     },
     "execution_count": 6,
     "metadata": {},
     "output_type": "execute_result"
    }
   ],
   "source": [
    "df['MULTIPLE_OFFENSE'].value_counts()"
   ]
  },
  {
   "cell_type": "code",
   "execution_count": 7,
   "metadata": {},
   "outputs": [
    {
     "data": {
      "text/html": [
       "<div>\n",
       "<style scoped>\n",
       "    .dataframe tbody tr th:only-of-type {\n",
       "        vertical-align: middle;\n",
       "    }\n",
       "\n",
       "    .dataframe tbody tr th {\n",
       "        vertical-align: top;\n",
       "    }\n",
       "\n",
       "    .dataframe thead th {\n",
       "        text-align: right;\n",
       "    }\n",
       "</style>\n",
       "<table border=\"1\" class=\"dataframe\">\n",
       "  <thead>\n",
       "    <tr style=\"text-align: right;\">\n",
       "      <th></th>\n",
       "      <th>X_1</th>\n",
       "      <th>X_2</th>\n",
       "      <th>X_3</th>\n",
       "      <th>X_4</th>\n",
       "      <th>X_5</th>\n",
       "      <th>X_6</th>\n",
       "      <th>X_7</th>\n",
       "      <th>X_8</th>\n",
       "      <th>X_9</th>\n",
       "      <th>X_10</th>\n",
       "      <th>X_11</th>\n",
       "      <th>X_12</th>\n",
       "      <th>X_13</th>\n",
       "      <th>X_14</th>\n",
       "      <th>X_15</th>\n",
       "      <th>MULTIPLE_OFFENSE</th>\n",
       "    </tr>\n",
       "  </thead>\n",
       "  <tbody>\n",
       "    <tr>\n",
       "      <th>count</th>\n",
       "      <td>23856.00</td>\n",
       "      <td>23856.00</td>\n",
       "      <td>23856.00</td>\n",
       "      <td>23856.00</td>\n",
       "      <td>23856.00</td>\n",
       "      <td>23856.00</td>\n",
       "      <td>23856.00</td>\n",
       "      <td>23856.00</td>\n",
       "      <td>23856.00</td>\n",
       "      <td>23856.00</td>\n",
       "      <td>23856.00</td>\n",
       "      <td>23674.00</td>\n",
       "      <td>23856.00</td>\n",
       "      <td>23856.00</td>\n",
       "      <td>23856.00</td>\n",
       "      <td>23856.00</td>\n",
       "    </tr>\n",
       "    <tr>\n",
       "      <th>mean</th>\n",
       "      <td>0.48</td>\n",
       "      <td>24.79</td>\n",
       "      <td>24.64</td>\n",
       "      <td>4.28</td>\n",
       "      <td>2.46</td>\n",
       "      <td>6.15</td>\n",
       "      <td>4.88</td>\n",
       "      <td>0.97</td>\n",
       "      <td>4.92</td>\n",
       "      <td>1.24</td>\n",
       "      <td>206.95</td>\n",
       "      <td>0.97</td>\n",
       "      <td>85.24</td>\n",
       "      <td>72.67</td>\n",
       "      <td>33.46</td>\n",
       "      <td>0.96</td>\n",
       "    </tr>\n",
       "    <tr>\n",
       "      <th>std</th>\n",
       "      <td>1.44</td>\n",
       "      <td>15.24</td>\n",
       "      <td>15.14</td>\n",
       "      <td>2.94</td>\n",
       "      <td>1.96</td>\n",
       "      <td>4.47</td>\n",
       "      <td>3.88</td>\n",
       "      <td>1.45</td>\n",
       "      <td>1.36</td>\n",
       "      <td>1.12</td>\n",
       "      <td>93.03</td>\n",
       "      <td>1.17</td>\n",
       "      <td>27.60</td>\n",
       "      <td>43.30</td>\n",
       "      <td>8.39</td>\n",
       "      <td>0.21</td>\n",
       "    </tr>\n",
       "    <tr>\n",
       "      <th>min</th>\n",
       "      <td>0.00</td>\n",
       "      <td>0.00</td>\n",
       "      <td>0.00</td>\n",
       "      <td>0.00</td>\n",
       "      <td>0.00</td>\n",
       "      <td>1.00</td>\n",
       "      <td>0.00</td>\n",
       "      <td>0.00</td>\n",
       "      <td>0.00</td>\n",
       "      <td>1.00</td>\n",
       "      <td>0.00</td>\n",
       "      <td>0.00</td>\n",
       "      <td>0.00</td>\n",
       "      <td>0.00</td>\n",
       "      <td>0.00</td>\n",
       "      <td>0.00</td>\n",
       "    </tr>\n",
       "    <tr>\n",
       "      <th>5%</th>\n",
       "      <td>0.00</td>\n",
       "      <td>4.00</td>\n",
       "      <td>4.00</td>\n",
       "      <td>0.00</td>\n",
       "      <td>0.00</td>\n",
       "      <td>1.00</td>\n",
       "      <td>0.00</td>\n",
       "      <td>0.00</td>\n",
       "      <td>2.00</td>\n",
       "      <td>1.00</td>\n",
       "      <td>0.00</td>\n",
       "      <td>0.00</td>\n",
       "      <td>18.00</td>\n",
       "      <td>29.00</td>\n",
       "      <td>23.00</td>\n",
       "      <td>1.00</td>\n",
       "    </tr>\n",
       "    <tr>\n",
       "      <th>25%</th>\n",
       "      <td>0.00</td>\n",
       "      <td>7.00</td>\n",
       "      <td>8.00</td>\n",
       "      <td>2.00</td>\n",
       "      <td>1.00</td>\n",
       "      <td>3.00</td>\n",
       "      <td>2.00</td>\n",
       "      <td>0.00</td>\n",
       "      <td>5.00</td>\n",
       "      <td>1.00</td>\n",
       "      <td>174.00</td>\n",
       "      <td>1.00</td>\n",
       "      <td>72.00</td>\n",
       "      <td>29.00</td>\n",
       "      <td>34.00</td>\n",
       "      <td>1.00</td>\n",
       "    </tr>\n",
       "    <tr>\n",
       "      <th>50%</th>\n",
       "      <td>0.00</td>\n",
       "      <td>24.00</td>\n",
       "      <td>24.00</td>\n",
       "      <td>4.00</td>\n",
       "      <td>3.00</td>\n",
       "      <td>5.00</td>\n",
       "      <td>4.00</td>\n",
       "      <td>1.00</td>\n",
       "      <td>5.00</td>\n",
       "      <td>1.00</td>\n",
       "      <td>249.00</td>\n",
       "      <td>1.00</td>\n",
       "      <td>98.00</td>\n",
       "      <td>62.00</td>\n",
       "      <td>34.00</td>\n",
       "      <td>1.00</td>\n",
       "    </tr>\n",
       "    <tr>\n",
       "      <th>75%</th>\n",
       "      <td>0.00</td>\n",
       "      <td>36.00</td>\n",
       "      <td>35.00</td>\n",
       "      <td>6.00</td>\n",
       "      <td>5.00</td>\n",
       "      <td>8.00</td>\n",
       "      <td>7.00</td>\n",
       "      <td>1.00</td>\n",
       "      <td>6.00</td>\n",
       "      <td>1.00</td>\n",
       "      <td>249.00</td>\n",
       "      <td>1.00</td>\n",
       "      <td>103.00</td>\n",
       "      <td>107.00</td>\n",
       "      <td>34.00</td>\n",
       "      <td>1.00</td>\n",
       "    </tr>\n",
       "    <tr>\n",
       "      <th>90%</th>\n",
       "      <td>1.00</td>\n",
       "      <td>45.00</td>\n",
       "      <td>45.00</td>\n",
       "      <td>9.00</td>\n",
       "      <td>5.00</td>\n",
       "      <td>15.00</td>\n",
       "      <td>10.00</td>\n",
       "      <td>2.00</td>\n",
       "      <td>6.00</td>\n",
       "      <td>2.00</td>\n",
       "      <td>316.00</td>\n",
       "      <td>2.00</td>\n",
       "      <td>112.00</td>\n",
       "      <td>142.00</td>\n",
       "      <td>43.00</td>\n",
       "      <td>1.00</td>\n",
       "    </tr>\n",
       "    <tr>\n",
       "      <th>95%</th>\n",
       "      <td>3.00</td>\n",
       "      <td>49.00</td>\n",
       "      <td>49.00</td>\n",
       "      <td>10.00</td>\n",
       "      <td>5.00</td>\n",
       "      <td>15.00</td>\n",
       "      <td>12.00</td>\n",
       "      <td>3.00</td>\n",
       "      <td>6.00</td>\n",
       "      <td>2.00</td>\n",
       "      <td>316.00</td>\n",
       "      <td>2.00</td>\n",
       "      <td>112.00</td>\n",
       "      <td>142.00</td>\n",
       "      <td>46.00</td>\n",
       "      <td>1.00</td>\n",
       "    </tr>\n",
       "    <tr>\n",
       "      <th>99%</th>\n",
       "      <td>7.00</td>\n",
       "      <td>50.00</td>\n",
       "      <td>50.00</td>\n",
       "      <td>10.00</td>\n",
       "      <td>5.00</td>\n",
       "      <td>17.00</td>\n",
       "      <td>17.00</td>\n",
       "      <td>5.00</td>\n",
       "      <td>6.00</td>\n",
       "      <td>4.00</td>\n",
       "      <td>316.00</td>\n",
       "      <td>4.00</td>\n",
       "      <td>116.00</td>\n",
       "      <td>142.00</td>\n",
       "      <td>48.00</td>\n",
       "      <td>1.00</td>\n",
       "    </tr>\n",
       "    <tr>\n",
       "      <th>max</th>\n",
       "      <td>7.00</td>\n",
       "      <td>52.00</td>\n",
       "      <td>52.00</td>\n",
       "      <td>10.00</td>\n",
       "      <td>5.00</td>\n",
       "      <td>19.00</td>\n",
       "      <td>18.00</td>\n",
       "      <td>99.00</td>\n",
       "      <td>6.00</td>\n",
       "      <td>90.00</td>\n",
       "      <td>332.00</td>\n",
       "      <td>90.00</td>\n",
       "      <td>116.00</td>\n",
       "      <td>142.00</td>\n",
       "      <td>50.00</td>\n",
       "      <td>1.00</td>\n",
       "    </tr>\n",
       "  </tbody>\n",
       "</table>\n",
       "</div>"
      ],
      "text/plain": [
       "            X_1       X_2       X_3       X_4       X_5       X_6       X_7       X_8       X_9      X_10      X_11      X_12      X_13      X_14      X_15  MULTIPLE_OFFENSE\n",
       "count  23856.00  23856.00  23856.00  23856.00  23856.00  23856.00  23856.00  23856.00  23856.00  23856.00  23856.00  23674.00  23856.00  23856.00  23856.00          23856.00\n",
       "mean       0.48     24.79     24.64      4.28      2.46      6.15      4.88      0.97      4.92      1.24    206.95      0.97     85.24     72.67     33.46              0.96\n",
       "std        1.44     15.24     15.14      2.94      1.96      4.47      3.88      1.45      1.36      1.12     93.03      1.17     27.60     43.30      8.39              0.21\n",
       "min        0.00      0.00      0.00      0.00      0.00      1.00      0.00      0.00      0.00      1.00      0.00      0.00      0.00      0.00      0.00              0.00\n",
       "5%         0.00      4.00      4.00      0.00      0.00      1.00      0.00      0.00      2.00      1.00      0.00      0.00     18.00     29.00     23.00              1.00\n",
       "25%        0.00      7.00      8.00      2.00      1.00      3.00      2.00      0.00      5.00      1.00    174.00      1.00     72.00     29.00     34.00              1.00\n",
       "50%        0.00     24.00     24.00      4.00      3.00      5.00      4.00      1.00      5.00      1.00    249.00      1.00     98.00     62.00     34.00              1.00\n",
       "75%        0.00     36.00     35.00      6.00      5.00      8.00      7.00      1.00      6.00      1.00    249.00      1.00    103.00    107.00     34.00              1.00\n",
       "90%        1.00     45.00     45.00      9.00      5.00     15.00     10.00      2.00      6.00      2.00    316.00      2.00    112.00    142.00     43.00              1.00\n",
       "95%        3.00     49.00     49.00     10.00      5.00     15.00     12.00      3.00      6.00      2.00    316.00      2.00    112.00    142.00     46.00              1.00\n",
       "99%        7.00     50.00     50.00     10.00      5.00     17.00     17.00      5.00      6.00      4.00    316.00      4.00    116.00    142.00     48.00              1.00\n",
       "max        7.00     52.00     52.00     10.00      5.00     19.00     18.00     99.00      6.00     90.00    332.00     90.00    116.00    142.00     50.00              1.00"
      ]
     },
     "execution_count": 7,
     "metadata": {},
     "output_type": "execute_result"
    }
   ],
   "source": [
    "# Looking at the statistical aspects of the dataframe.\n",
    "\n",
    "df.describe(percentiles=[.05, .25, .5, .75, .90, .95, .99]).round(2)"
   ]
  },
  {
   "cell_type": "code",
   "execution_count": 8,
   "metadata": {},
   "outputs": [
    {
     "data": {
      "text/html": [
       "<div>\n",
       "<style scoped>\n",
       "    .dataframe tbody tr th:only-of-type {\n",
       "        vertical-align: middle;\n",
       "    }\n",
       "\n",
       "    .dataframe tbody tr th {\n",
       "        vertical-align: top;\n",
       "    }\n",
       "\n",
       "    .dataframe thead th {\n",
       "        text-align: right;\n",
       "    }\n",
       "</style>\n",
       "<table border=\"1\" class=\"dataframe\">\n",
       "  <thead>\n",
       "    <tr style=\"text-align: right;\">\n",
       "      <th></th>\n",
       "      <th>Total</th>\n",
       "      <th>Percentage</th>\n",
       "    </tr>\n",
       "  </thead>\n",
       "  <tbody>\n",
       "    <tr>\n",
       "      <th>X_12</th>\n",
       "      <td>182</td>\n",
       "      <td>0.762911</td>\n",
       "    </tr>\n",
       "    <tr>\n",
       "      <th>MULTIPLE_OFFENSE</th>\n",
       "      <td>0</td>\n",
       "      <td>0.000000</td>\n",
       "    </tr>\n",
       "    <tr>\n",
       "      <th>X_6</th>\n",
       "      <td>0</td>\n",
       "      <td>0.000000</td>\n",
       "    </tr>\n",
       "    <tr>\n",
       "      <th>DATE</th>\n",
       "      <td>0</td>\n",
       "      <td>0.000000</td>\n",
       "    </tr>\n",
       "    <tr>\n",
       "      <th>X_1</th>\n",
       "      <td>0</td>\n",
       "      <td>0.000000</td>\n",
       "    </tr>\n",
       "    <tr>\n",
       "      <th>X_2</th>\n",
       "      <td>0</td>\n",
       "      <td>0.000000</td>\n",
       "    </tr>\n",
       "    <tr>\n",
       "      <th>X_3</th>\n",
       "      <td>0</td>\n",
       "      <td>0.000000</td>\n",
       "    </tr>\n",
       "    <tr>\n",
       "      <th>X_4</th>\n",
       "      <td>0</td>\n",
       "      <td>0.000000</td>\n",
       "    </tr>\n",
       "    <tr>\n",
       "      <th>X_5</th>\n",
       "      <td>0</td>\n",
       "      <td>0.000000</td>\n",
       "    </tr>\n",
       "    <tr>\n",
       "      <th>X_7</th>\n",
       "      <td>0</td>\n",
       "      <td>0.000000</td>\n",
       "    </tr>\n",
       "    <tr>\n",
       "      <th>X_15</th>\n",
       "      <td>0</td>\n",
       "      <td>0.000000</td>\n",
       "    </tr>\n",
       "    <tr>\n",
       "      <th>X_8</th>\n",
       "      <td>0</td>\n",
       "      <td>0.000000</td>\n",
       "    </tr>\n",
       "    <tr>\n",
       "      <th>X_9</th>\n",
       "      <td>0</td>\n",
       "      <td>0.000000</td>\n",
       "    </tr>\n",
       "    <tr>\n",
       "      <th>X_10</th>\n",
       "      <td>0</td>\n",
       "      <td>0.000000</td>\n",
       "    </tr>\n",
       "    <tr>\n",
       "      <th>X_11</th>\n",
       "      <td>0</td>\n",
       "      <td>0.000000</td>\n",
       "    </tr>\n",
       "    <tr>\n",
       "      <th>X_13</th>\n",
       "      <td>0</td>\n",
       "      <td>0.000000</td>\n",
       "    </tr>\n",
       "    <tr>\n",
       "      <th>X_14</th>\n",
       "      <td>0</td>\n",
       "      <td>0.000000</td>\n",
       "    </tr>\n",
       "    <tr>\n",
       "      <th>INCIDENT_ID</th>\n",
       "      <td>0</td>\n",
       "      <td>0.000000</td>\n",
       "    </tr>\n",
       "  </tbody>\n",
       "</table>\n",
       "</div>"
      ],
      "text/plain": [
       "                  Total  Percentage\n",
       "X_12                182    0.762911\n",
       "MULTIPLE_OFFENSE      0    0.000000\n",
       "X_6                   0    0.000000\n",
       "DATE                  0    0.000000\n",
       "X_1                   0    0.000000\n",
       "X_2                   0    0.000000\n",
       "X_3                   0    0.000000\n",
       "X_4                   0    0.000000\n",
       "X_5                   0    0.000000\n",
       "X_7                   0    0.000000\n",
       "X_15                  0    0.000000\n",
       "X_8                   0    0.000000\n",
       "X_9                   0    0.000000\n",
       "X_10                  0    0.000000\n",
       "X_11                  0    0.000000\n",
       "X_13                  0    0.000000\n",
       "X_14                  0    0.000000\n",
       "INCIDENT_ID           0    0.000000"
      ]
     },
     "execution_count": 8,
     "metadata": {},
     "output_type": "execute_result"
    }
   ],
   "source": [
    "# Looking at the count and percentages of null values of each column.\n",
    "\n",
    "total = df.isnull().sum().sort_values(ascending = False)\n",
    "\n",
    "percentage = (df.isnull().sum() / df.isnull().count() * 100).sort_values(ascending = False)\n",
    "\n",
    "pd.concat([total, percentage], axis = 1, keys = ['Total', 'Percentage'])"
   ]
  },
  {
   "cell_type": "code",
   "execution_count": 9,
   "metadata": {},
   "outputs": [
    {
     "data": {
      "text/plain": [
       "1.0     15674\n",
       "0.0      5171\n",
       "2.0      2039\n",
       "3.0       476\n",
       "4.0       176\n",
       "5.0        59\n",
       "6.0        36\n",
       "8.0         9\n",
       "10.0        7\n",
       "9.0         6\n",
       "7.0         4\n",
       "11.0        4\n",
       "15.0        2\n",
       "20.0        2\n",
       "17.0        1\n",
       "58.0        1\n",
       "50.0        1\n",
       "40.0        1\n",
       "16.0        1\n",
       "90.0        1\n",
       "12.0        1\n",
       "30.0        1\n",
       "14.0        1\n",
       "Name: X_12, dtype: int64"
      ]
     },
     "execution_count": 9,
     "metadata": {},
     "output_type": "execute_result"
    }
   ],
   "source": [
    "df['X_12'].value_counts()"
   ]
  },
  {
   "cell_type": "code",
   "execution_count": 11,
   "metadata": {},
   "outputs": [],
   "source": [
    "df['X_12']=df['X_12'].fillna(1.0)"
   ]
  },
  {
   "cell_type": "code",
   "execution_count": 12,
   "metadata": {},
   "outputs": [
    {
     "data": {
      "text/html": [
       "<div>\n",
       "<style scoped>\n",
       "    .dataframe tbody tr th:only-of-type {\n",
       "        vertical-align: middle;\n",
       "    }\n",
       "\n",
       "    .dataframe tbody tr th {\n",
       "        vertical-align: top;\n",
       "    }\n",
       "\n",
       "    .dataframe thead th {\n",
       "        text-align: right;\n",
       "    }\n",
       "</style>\n",
       "<table border=\"1\" class=\"dataframe\">\n",
       "  <thead>\n",
       "    <tr style=\"text-align: right;\">\n",
       "      <th></th>\n",
       "      <th>Total</th>\n",
       "      <th>Percentage</th>\n",
       "    </tr>\n",
       "  </thead>\n",
       "  <tbody>\n",
       "    <tr>\n",
       "      <th>MULTIPLE_OFFENSE</th>\n",
       "      <td>0</td>\n",
       "      <td>0.0</td>\n",
       "    </tr>\n",
       "    <tr>\n",
       "      <th>X_15</th>\n",
       "      <td>0</td>\n",
       "      <td>0.0</td>\n",
       "    </tr>\n",
       "    <tr>\n",
       "      <th>DATE</th>\n",
       "      <td>0</td>\n",
       "      <td>0.0</td>\n",
       "    </tr>\n",
       "    <tr>\n",
       "      <th>X_1</th>\n",
       "      <td>0</td>\n",
       "      <td>0.0</td>\n",
       "    </tr>\n",
       "    <tr>\n",
       "      <th>X_2</th>\n",
       "      <td>0</td>\n",
       "      <td>0.0</td>\n",
       "    </tr>\n",
       "    <tr>\n",
       "      <th>X_3</th>\n",
       "      <td>0</td>\n",
       "      <td>0.0</td>\n",
       "    </tr>\n",
       "    <tr>\n",
       "      <th>X_4</th>\n",
       "      <td>0</td>\n",
       "      <td>0.0</td>\n",
       "    </tr>\n",
       "    <tr>\n",
       "      <th>X_5</th>\n",
       "      <td>0</td>\n",
       "      <td>0.0</td>\n",
       "    </tr>\n",
       "    <tr>\n",
       "      <th>X_6</th>\n",
       "      <td>0</td>\n",
       "      <td>0.0</td>\n",
       "    </tr>\n",
       "    <tr>\n",
       "      <th>X_7</th>\n",
       "      <td>0</td>\n",
       "      <td>0.0</td>\n",
       "    </tr>\n",
       "    <tr>\n",
       "      <th>X_8</th>\n",
       "      <td>0</td>\n",
       "      <td>0.0</td>\n",
       "    </tr>\n",
       "    <tr>\n",
       "      <th>X_9</th>\n",
       "      <td>0</td>\n",
       "      <td>0.0</td>\n",
       "    </tr>\n",
       "    <tr>\n",
       "      <th>X_10</th>\n",
       "      <td>0</td>\n",
       "      <td>0.0</td>\n",
       "    </tr>\n",
       "    <tr>\n",
       "      <th>X_11</th>\n",
       "      <td>0</td>\n",
       "      <td>0.0</td>\n",
       "    </tr>\n",
       "    <tr>\n",
       "      <th>X_12</th>\n",
       "      <td>0</td>\n",
       "      <td>0.0</td>\n",
       "    </tr>\n",
       "    <tr>\n",
       "      <th>X_13</th>\n",
       "      <td>0</td>\n",
       "      <td>0.0</td>\n",
       "    </tr>\n",
       "    <tr>\n",
       "      <th>X_14</th>\n",
       "      <td>0</td>\n",
       "      <td>0.0</td>\n",
       "    </tr>\n",
       "    <tr>\n",
       "      <th>INCIDENT_ID</th>\n",
       "      <td>0</td>\n",
       "      <td>0.0</td>\n",
       "    </tr>\n",
       "  </tbody>\n",
       "</table>\n",
       "</div>"
      ],
      "text/plain": [
       "                  Total  Percentage\n",
       "MULTIPLE_OFFENSE      0         0.0\n",
       "X_15                  0         0.0\n",
       "DATE                  0         0.0\n",
       "X_1                   0         0.0\n",
       "X_2                   0         0.0\n",
       "X_3                   0         0.0\n",
       "X_4                   0         0.0\n",
       "X_5                   0         0.0\n",
       "X_6                   0         0.0\n",
       "X_7                   0         0.0\n",
       "X_8                   0         0.0\n",
       "X_9                   0         0.0\n",
       "X_10                  0         0.0\n",
       "X_11                  0         0.0\n",
       "X_12                  0         0.0\n",
       "X_13                  0         0.0\n",
       "X_14                  0         0.0\n",
       "INCIDENT_ID           0         0.0"
      ]
     },
     "execution_count": 12,
     "metadata": {},
     "output_type": "execute_result"
    }
   ],
   "source": [
    "# Looking at the count and percentages of null values of each column.\n",
    "\n",
    "total = df.isnull().sum().sort_values(ascending = False)\n",
    "\n",
    "percentage = (df.isnull().sum() / df.isnull().count() * 100).sort_values(ascending = False)\n",
    "\n",
    "pd.concat([total, percentage], axis = 1, keys = ['Total', 'Percentage'])"
   ]
  },
  {
   "cell_type": "code",
   "execution_count": 14,
   "metadata": {},
   "outputs": [
    {
     "name": "stdout",
     "output_type": "stream",
     "text": [
      "MULTIPLE_OFFENSE\n",
      "Percentage share of non-hack: 4.48\n",
      "Percentage share of hack: 95.52\n"
     ]
    }
   ],
   "source": [
    "# Looking at the percentage shares of both the classes in the dataset.\n",
    "\n",
    "offense = df['MULTIPLE_OFFENSE'].value_counts()\n",
    "Not_Hack = offense[0] / df['MULTIPLE_OFFENSE'].count() * 100\n",
    "Hack = offense[1] / df['MULTIPLE_OFFENSE'].count() * 100\n",
    "\n",
    "print('MULTIPLE_OFFENSE')\n",
    "\n",
    "print('Percentage share of non-hack:', round(Not_Hack, 2))\n",
    "\n",
    "print('Percentage share of hack:' , round(Hack, 2))"
   ]
  },
  {
   "cell_type": "code",
   "execution_count": 16,
   "metadata": {},
   "outputs": [
    {
     "data": {
      "text/plain": [
       "<matplotlib.axes._subplots.AxesSubplot at 0x2adfe1fe2b0>"
      ]
     },
     "execution_count": 16,
     "metadata": {},
     "output_type": "execute_result"
    },
    {
     "data": {
      "image/png": "[encoded data removed]",
      "text/plain": [
       "<Figure size 432x288 with 2 Axes>"
      ]
     },
     "metadata": {
      "needs_background": "light"
     },
     "output_type": "display_data"
    }
   ],
   "source": [
    "sns.heatmap(df.corr())"
   ]
  },
  {
   "cell_type": "code",
   "execution_count": 17,
   "metadata": {},
   "outputs": [
    {
     "data": {
      "text/html": [
       "<div>\n",
       "<style scoped>\n",
       "    .dataframe tbody tr th:only-of-type {\n",
       "        vertical-align: middle;\n",
       "    }\n",
       "\n",
       "    .dataframe tbody tr th {\n",
       "        vertical-align: top;\n",
       "    }\n",
       "\n",
       "    .dataframe thead th {\n",
       "        text-align: right;\n",
       "    }\n",
       "</style>\n",
       "<table border=\"1\" class=\"dataframe\">\n",
       "  <thead>\n",
       "    <tr style=\"text-align: right;\">\n",
       "      <th></th>\n",
       "      <th>X_1</th>\n",
       "      <th>X_2</th>\n",
       "      <th>X_3</th>\n",
       "      <th>X_4</th>\n",
       "      <th>X_5</th>\n",
       "      <th>X_6</th>\n",
       "      <th>X_7</th>\n",
       "      <th>X_8</th>\n",
       "      <th>X_9</th>\n",
       "      <th>X_10</th>\n",
       "      <th>X_11</th>\n",
       "      <th>X_12</th>\n",
       "      <th>X_13</th>\n",
       "      <th>X_14</th>\n",
       "      <th>X_15</th>\n",
       "      <th>MULTIPLE_OFFENSE</th>\n",
       "    </tr>\n",
       "  </thead>\n",
       "  <tbody>\n",
       "    <tr>\n",
       "      <th>X_1</th>\n",
       "      <td>1.000000</td>\n",
       "      <td>0.021999</td>\n",
       "      <td>0.022603</td>\n",
       "      <td>0.002137</td>\n",
       "      <td>-0.034220</td>\n",
       "      <td>0.409876</td>\n",
       "      <td>0.421454</td>\n",
       "      <td>-0.061897</td>\n",
       "      <td>0.017984</td>\n",
       "      <td>0.004155</td>\n",
       "      <td>-0.003078</td>\n",
       "      <td>-0.034565</td>\n",
       "      <td>0.111611</td>\n",
       "      <td>-0.012708</td>\n",
       "      <td>-0.012132</td>\n",
       "      <td>0.014034</td>\n",
       "    </tr>\n",
       "    <tr>\n",
       "      <th>X_2</th>\n",
       "      <td>0.021999</td>\n",
       "      <td>1.000000</td>\n",
       "      <td>0.996985</td>\n",
       "      <td>-0.104321</td>\n",
       "      <td>-0.349190</td>\n",
       "      <td>0.119718</td>\n",
       "      <td>0.058806</td>\n",
       "      <td>-0.038174</td>\n",
       "      <td>-0.017749</td>\n",
       "      <td>-0.016710</td>\n",
       "      <td>0.038003</td>\n",
       "      <td>-0.067504</td>\n",
       "      <td>0.046668</td>\n",
       "      <td>0.015194</td>\n",
       "      <td>0.013822</td>\n",
       "      <td>-0.027293</td>\n",
       "    </tr>\n",
       "    <tr>\n",
       "      <th>X_3</th>\n",
       "      <td>0.022603</td>\n",
       "      <td>0.996985</td>\n",
       "      <td>1.000000</td>\n",
       "      <td>-0.075344</td>\n",
       "      <td>-0.347519</td>\n",
       "      <td>0.124662</td>\n",
       "      <td>0.072954</td>\n",
       "      <td>-0.033035</td>\n",
       "      <td>-0.019853</td>\n",
       "      <td>-0.014485</td>\n",
       "      <td>0.036946</td>\n",
       "      <td>-0.064693</td>\n",
       "      <td>0.043201</td>\n",
       "      <td>0.013522</td>\n",
       "      <td>0.006851</td>\n",
       "      <td>-0.027218</td>\n",
       "    </tr>\n",
       "    <tr>\n",
       "      <th>X_4</th>\n",
       "      <td>0.002137</td>\n",
       "      <td>-0.104321</td>\n",
       "      <td>-0.075344</td>\n",
       "      <td>1.000000</td>\n",
       "      <td>0.439616</td>\n",
       "      <td>0.028929</td>\n",
       "      <td>0.094076</td>\n",
       "      <td>0.075197</td>\n",
       "      <td>-0.008453</td>\n",
       "      <td>0.038077</td>\n",
       "      <td>-0.037614</td>\n",
       "      <td>0.058949</td>\n",
       "      <td>-0.051861</td>\n",
       "      <td>-0.030024</td>\n",
       "      <td>-0.033198</td>\n",
       "      <td>-0.002921</td>\n",
       "    </tr>\n",
       "    <tr>\n",
       "      <th>X_5</th>\n",
       "      <td>-0.034220</td>\n",
       "      <td>-0.349190</td>\n",
       "      <td>-0.347519</td>\n",
       "      <td>0.439616</td>\n",
       "      <td>1.000000</td>\n",
       "      <td>-0.062784</td>\n",
       "      <td>0.010161</td>\n",
       "      <td>0.046926</td>\n",
       "      <td>0.046428</td>\n",
       "      <td>0.046212</td>\n",
       "      <td>-0.043111</td>\n",
       "      <td>0.081794</td>\n",
       "      <td>-0.071233</td>\n",
       "      <td>-0.003413</td>\n",
       "      <td>-0.036383</td>\n",
       "      <td>-0.003450</td>\n",
       "    </tr>\n",
       "    <tr>\n",
       "      <th>X_6</th>\n",
       "      <td>0.409876</td>\n",
       "      <td>0.119718</td>\n",
       "      <td>0.124662</td>\n",
       "      <td>0.028929</td>\n",
       "      <td>-0.062784</td>\n",
       "      <td>1.000000</td>\n",
       "      <td>0.695243</td>\n",
       "      <td>-0.063541</td>\n",
       "      <td>0.079192</td>\n",
       "      <td>0.021186</td>\n",
       "      <td>-0.002990</td>\n",
       "      <td>-0.031158</td>\n",
       "      <td>0.047845</td>\n",
       "      <td>-0.013155</td>\n",
       "      <td>-0.006621</td>\n",
       "      <td>-0.007903</td>\n",
       "    </tr>\n",
       "    <tr>\n",
       "      <th>X_7</th>\n",
       "      <td>0.421454</td>\n",
       "      <td>0.058806</td>\n",
       "      <td>0.072954</td>\n",
       "      <td>0.094076</td>\n",
       "      <td>0.010161</td>\n",
       "      <td>0.695243</td>\n",
       "      <td>1.000000</td>\n",
       "      <td>-0.011824</td>\n",
       "      <td>0.011519</td>\n",
       "      <td>0.023205</td>\n",
       "      <td>0.002970</td>\n",
       "      <td>-0.000435</td>\n",
       "      <td>0.012204</td>\n",
       "      <td>0.003738</td>\n",
       "      <td>-0.003277</td>\n",
       "      <td>-0.008036</td>\n",
       "    </tr>\n",
       "    <tr>\n",
       "      <th>X_8</th>\n",
       "      <td>-0.061897</td>\n",
       "      <td>-0.038174</td>\n",
       "      <td>-0.033035</td>\n",
       "      <td>0.075197</td>\n",
       "      <td>0.046926</td>\n",
       "      <td>-0.063541</td>\n",
       "      <td>-0.011824</td>\n",
       "      <td>1.000000</td>\n",
       "      <td>-0.090184</td>\n",
       "      <td>0.222004</td>\n",
       "      <td>0.009424</td>\n",
       "      <td>0.272791</td>\n",
       "      <td>-0.048140</td>\n",
       "      <td>0.003987</td>\n",
       "      <td>0.017636</td>\n",
       "      <td>-0.033397</td>\n",
       "    </tr>\n",
       "    <tr>\n",
       "      <th>X_9</th>\n",
       "      <td>0.017984</td>\n",
       "      <td>-0.017749</td>\n",
       "      <td>-0.019853</td>\n",
       "      <td>-0.008453</td>\n",
       "      <td>0.046428</td>\n",
       "      <td>0.079192</td>\n",
       "      <td>0.011519</td>\n",
       "      <td>-0.090184</td>\n",
       "      <td>1.000000</td>\n",
       "      <td>0.013388</td>\n",
       "      <td>-0.006152</td>\n",
       "      <td>0.005142</td>\n",
       "      <td>0.023537</td>\n",
       "      <td>-0.297295</td>\n",
       "      <td>0.006475</td>\n",
       "      <td>-0.000748</td>\n",
       "    </tr>\n",
       "    <tr>\n",
       "      <th>X_10</th>\n",
       "      <td>0.004155</td>\n",
       "      <td>-0.016710</td>\n",
       "      <td>-0.014485</td>\n",
       "      <td>0.038077</td>\n",
       "      <td>0.046212</td>\n",
       "      <td>0.021186</td>\n",
       "      <td>0.023205</td>\n",
       "      <td>0.222004</td>\n",
       "      <td>0.013388</td>\n",
       "      <td>1.000000</td>\n",
       "      <td>-0.045596</td>\n",
       "      <td>0.877434</td>\n",
       "      <td>0.002332</td>\n",
       "      <td>-0.016519</td>\n",
       "      <td>-0.003336</td>\n",
       "      <td>-0.242596</td>\n",
       "    </tr>\n",
       "    <tr>\n",
       "      <th>X_11</th>\n",
       "      <td>-0.003078</td>\n",
       "      <td>0.038003</td>\n",
       "      <td>0.036946</td>\n",
       "      <td>-0.037614</td>\n",
       "      <td>-0.043111</td>\n",
       "      <td>-0.002990</td>\n",
       "      <td>0.002970</td>\n",
       "      <td>0.009424</td>\n",
       "      <td>-0.006152</td>\n",
       "      <td>-0.045596</td>\n",
       "      <td>1.000000</td>\n",
       "      <td>0.027288</td>\n",
       "      <td>0.017055</td>\n",
       "      <td>-0.009531</td>\n",
       "      <td>0.017267</td>\n",
       "      <td>0.105088</td>\n",
       "    </tr>\n",
       "    <tr>\n",
       "      <th>X_12</th>\n",
       "      <td>-0.034565</td>\n",
       "      <td>-0.067504</td>\n",
       "      <td>-0.064693</td>\n",
       "      <td>0.058949</td>\n",
       "      <td>0.081794</td>\n",
       "      <td>-0.031158</td>\n",
       "      <td>-0.000435</td>\n",
       "      <td>0.272791</td>\n",
       "      <td>0.005142</td>\n",
       "      <td>0.877434</td>\n",
       "      <td>0.027288</td>\n",
       "      <td>1.000000</td>\n",
       "      <td>0.029836</td>\n",
       "      <td>-0.041898</td>\n",
       "      <td>0.043335</td>\n",
       "      <td>-0.113004</td>\n",
       "    </tr>\n",
       "    <tr>\n",
       "      <th>X_13</th>\n",
       "      <td>0.111611</td>\n",
       "      <td>0.046668</td>\n",
       "      <td>0.043201</td>\n",
       "      <td>-0.051861</td>\n",
       "      <td>-0.071233</td>\n",
       "      <td>0.047845</td>\n",
       "      <td>0.012204</td>\n",
       "      <td>-0.048140</td>\n",
       "      <td>0.023537</td>\n",
       "      <td>0.002332</td>\n",
       "      <td>0.017055</td>\n",
       "      <td>0.029836</td>\n",
       "      <td>1.000000</td>\n",
       "      <td>-0.063373</td>\n",
       "      <td>0.004041</td>\n",
       "      <td>0.006512</td>\n",
       "    </tr>\n",
       "    <tr>\n",
       "      <th>X_14</th>\n",
       "      <td>-0.012708</td>\n",
       "      <td>0.015194</td>\n",
       "      <td>0.013522</td>\n",
       "      <td>-0.030024</td>\n",
       "      <td>-0.003413</td>\n",
       "      <td>-0.013155</td>\n",
       "      <td>0.003738</td>\n",
       "      <td>0.003987</td>\n",
       "      <td>-0.297295</td>\n",
       "      <td>-0.016519</td>\n",
       "      <td>-0.009531</td>\n",
       "      <td>-0.041898</td>\n",
       "      <td>-0.063373</td>\n",
       "      <td>1.000000</td>\n",
       "      <td>0.011804</td>\n",
       "      <td>-0.015267</td>\n",
       "    </tr>\n",
       "    <tr>\n",
       "      <th>X_15</th>\n",
       "      <td>-0.012132</td>\n",
       "      <td>0.013822</td>\n",
       "      <td>0.006851</td>\n",
       "      <td>-0.033198</td>\n",
       "      <td>-0.036383</td>\n",
       "      <td>-0.006621</td>\n",
       "      <td>-0.003277</td>\n",
       "      <td>0.017636</td>\n",
       "      <td>0.006475</td>\n",
       "      <td>-0.003336</td>\n",
       "      <td>0.017267</td>\n",
       "      <td>0.043335</td>\n",
       "      <td>0.004041</td>\n",
       "      <td>0.011804</td>\n",
       "      <td>1.000000</td>\n",
       "      <td>0.044916</td>\n",
       "    </tr>\n",
       "    <tr>\n",
       "      <th>MULTIPLE_OFFENSE</th>\n",
       "      <td>0.014034</td>\n",
       "      <td>-0.027293</td>\n",
       "      <td>-0.027218</td>\n",
       "      <td>-0.002921</td>\n",
       "      <td>-0.003450</td>\n",
       "      <td>-0.007903</td>\n",
       "      <td>-0.008036</td>\n",
       "      <td>-0.033397</td>\n",
       "      <td>-0.000748</td>\n",
       "      <td>-0.242596</td>\n",
       "      <td>0.105088</td>\n",
       "      <td>-0.113004</td>\n",
       "      <td>0.006512</td>\n",
       "      <td>-0.015267</td>\n",
       "      <td>0.044916</td>\n",
       "      <td>1.000000</td>\n",
       "    </tr>\n",
       "  </tbody>\n",
       "</table>\n",
       "</div>"
      ],
      "text/plain": [
       "                       X_1       X_2       X_3       X_4       X_5       X_6       X_7       X_8       X_9      X_10      X_11      X_12      X_13      X_14      X_15  MULTIPLE_OFFENSE\n",
       "X_1               1.000000  0.021999  0.022603  0.002137 -0.034220  0.409876  0.421454 -0.061897  0.017984  0.004155 -0.003078 -0.034565  0.111611 -0.012708 -0.012132          0.014034\n",
       "X_2               0.021999  1.000000  0.996985 -0.104321 -0.349190  0.119718  0.058806 -0.038174 -0.017749 -0.016710  0.038003 -0.067504  0.046668  0.015194  0.013822         -0.027293\n",
       "X_3               0.022603  0.996985  1.000000 -0.075344 -0.347519  0.124662  0.072954 -0.033035 -0.019853 -0.014485  0.036946 -0.064693  0.043201  0.013522  0.006851         -0.027218\n",
       "X_4               0.002137 -0.104321 -0.075344  1.000000  0.439616  0.028929  0.094076  0.075197 -0.008453  0.038077 -0.037614  0.058949 -0.051861 -0.030024 -0.033198         -0.002921\n",
       "X_5              -0.034220 -0.349190 -0.347519  0.439616  1.000000 -0.062784  0.010161  0.046926  0.046428  0.046212 -0.043111  0.081794 -0.071233 -0.003413 -0.036383         -0.003450\n",
       "X_6               0.409876  0.119718  0.124662  0.028929 -0.062784  1.000000  0.695243 -0.063541  0.079192  0.021186 -0.002990 -0.031158  0.047845 -0.013155 -0.006621         -0.007903\n",
       "X_7               0.421454  0.058806  0.072954  0.094076  0.010161  0.695243  1.000000 -0.011824  0.011519  0.023205  0.002970 -0.000435  0.012204  0.003738 -0.003277         -0.008036\n",
       "X_8              -0.061897 -0.038174 -0.033035  0.075197  0.046926 -0.063541 -0.011824  1.000000 -0.090184  0.222004  0.009424  0.272791 -0.048140  0.003987  0.017636         -0.033397\n",
       "X_9               0.017984 -0.017749 -0.019853 -0.008453  0.046428  0.079192  0.011519 -0.090184  1.000000  0.013388 -0.006152  0.005142  0.023537 -0.297295  0.006475         -0.000748\n",
       "X_10              0.004155 -0.016710 -0.014485  0.038077  0.046212  0.021186  0.023205  0.222004  0.013388  1.000000 -0.045596  0.877434  0.002332 -0.016519 -0.003336         -0.242596\n",
       "X_11             -0.003078  0.038003  0.036946 -0.037614 -0.043111 -0.002990  0.002970  0.009424 -0.006152 -0.045596  1.000000  0.027288  0.017055 -0.009531  0.017267          0.105088\n",
       "X_12             -0.034565 -0.067504 -0.064693  0.058949  0.081794 -0.031158 -0.000435  0.272791  0.005142  0.877434  0.027288  1.000000  0.029836 -0.041898  0.043335         -0.113004\n",
       "X_13              0.111611  0.046668  0.043201 -0.051861 -0.071233  0.047845  0.012204 -0.048140  0.023537  0.002332  0.017055  0.029836  1.000000 -0.063373  0.004041          0.006512\n",
       "X_14             -0.012708  0.015194  0.013522 -0.030024 -0.003413 -0.013155  0.003738  0.003987 -0.297295 -0.016519 -0.009531 -0.041898 -0.063373  1.000000  0.011804         -0.015267\n",
       "X_15             -0.012132  0.013822  0.006851 -0.033198 -0.036383 -0.006621 -0.003277  0.017636  0.006475 -0.003336  0.017267  0.043335  0.004041  0.011804  1.000000          0.044916\n",
       "MULTIPLE_OFFENSE  0.014034 -0.027293 -0.027218 -0.002921 -0.003450 -0.007903 -0.008036 -0.033397 -0.000748 -0.242596  0.105088 -0.113004  0.006512 -0.015267  0.044916          1.000000"
      ]
     },
     "execution_count": 17,
     "metadata": {},
     "output_type": "execute_result"
    }
   ],
   "source": [
    "df.corr()"
   ]
  },
  {
   "cell_type": "code",
   "execution_count": 76,
   "metadata": {},
   "outputs": [
    {
     "data": {
      "text/plain": [
       "<Figure size 432x288 with 0 Axes>"
      ]
     },
     "metadata": {},
     "output_type": "display_data"
    },
    {
     "data": {
      "image/png": "[encoded data removed]",
      "text/plain": [
       "<Figure size 864x576 with 15 Axes>"
      ]
     },
     "metadata": {},
     "output_type": "display_data"
    }
   ],
   "source": [
    "# plotting the histogram of the variables from the dataset to check the skewness.\n",
    "\n",
    "var = ['X_1','X_2','X_3','X_4','X_5','X_6','X_7','X_8','X_9','X_10','X_11','X_12','X_13','X_14','X_15']\n",
    "\n",
    "i = 0\n",
    "t0 = df.loc[df['MULTIPLE_OFFENSE'] == 0]\n",
    "t1 = df.loc[df['MULTIPLE_OFFENSE'] == 1]\n",
    "\n",
    "sns.set_style('whitegrid')\n",
    "plt.figure()\n",
    "fig, ax = plt.subplots(3,5, figsize = (12,8))\n",
    "\n",
    "for feature in var:\n",
    "    i += 1\n",
    "    plt.subplot(3,5,i)\n",
    "    sns.distplot(t0[feature], label=\"MULTIPLE_OFFENSE = 0\")\n",
    "    sns.distplot(t1[feature], label=\"MULTIPLE_OFFENSE = 1\")\n",
    "    plt.xlabel(feature, fontsize=12)\n",
    "    locs, labels = plt.xticks()\n",
    "    plt.tick_params(axis='both', which='major', labelsize=12)\n",
    "plt.show();"
   ]
  },
  {
   "cell_type": "code",
   "execution_count": 77,
   "metadata": {},
   "outputs": [
    {
     "data": {
      "text/html": [
       "<div>\n",
       "<style scoped>\n",
       "    .dataframe tbody tr th:only-of-type {\n",
       "        vertical-align: middle;\n",
       "    }\n",
       "\n",
       "    .dataframe tbody tr th {\n",
       "        vertical-align: top;\n",
       "    }\n",
       "\n",
       "    .dataframe thead th {\n",
       "        text-align: right;\n",
       "    }\n",
       "</style>\n",
       "<table border=\"1\" class=\"dataframe\">\n",
       "  <thead>\n",
       "    <tr style=\"text-align: right;\">\n",
       "      <th></th>\n",
       "      <th>X_1</th>\n",
       "      <th>X_2</th>\n",
       "      <th>X_3</th>\n",
       "      <th>X_4</th>\n",
       "      <th>X_5</th>\n",
       "      <th>X_6</th>\n",
       "      <th>X_7</th>\n",
       "      <th>X_8</th>\n",
       "      <th>X_9</th>\n",
       "      <th>X_10</th>\n",
       "      <th>X_11</th>\n",
       "      <th>X_12</th>\n",
       "      <th>X_13</th>\n",
       "      <th>X_14</th>\n",
       "      <th>X_15</th>\n",
       "    </tr>\n",
       "  </thead>\n",
       "  <tbody>\n",
       "    <tr>\n",
       "      <th>0</th>\n",
       "      <td>0</td>\n",
       "      <td>36</td>\n",
       "      <td>34</td>\n",
       "      <td>2</td>\n",
       "      <td>1</td>\n",
       "      <td>5</td>\n",
       "      <td>6</td>\n",
       "      <td>1</td>\n",
       "      <td>6</td>\n",
       "      <td>1</td>\n",
       "      <td>174</td>\n",
       "      <td>1.0</td>\n",
       "      <td>92</td>\n",
       "      <td>29</td>\n",
       "      <td>36</td>\n",
       "    </tr>\n",
       "    <tr>\n",
       "      <th>1</th>\n",
       "      <td>1</td>\n",
       "      <td>37</td>\n",
       "      <td>37</td>\n",
       "      <td>0</td>\n",
       "      <td>0</td>\n",
       "      <td>11</td>\n",
       "      <td>17</td>\n",
       "      <td>1</td>\n",
       "      <td>6</td>\n",
       "      <td>1</td>\n",
       "      <td>236</td>\n",
       "      <td>1.0</td>\n",
       "      <td>103</td>\n",
       "      <td>142</td>\n",
       "      <td>34</td>\n",
       "    </tr>\n",
       "    <tr>\n",
       "      <th>2</th>\n",
       "      <td>0</td>\n",
       "      <td>3</td>\n",
       "      <td>2</td>\n",
       "      <td>3</td>\n",
       "      <td>5</td>\n",
       "      <td>1</td>\n",
       "      <td>0</td>\n",
       "      <td>2</td>\n",
       "      <td>3</td>\n",
       "      <td>1</td>\n",
       "      <td>174</td>\n",
       "      <td>1.0</td>\n",
       "      <td>110</td>\n",
       "      <td>93</td>\n",
       "      <td>34</td>\n",
       "    </tr>\n",
       "    <tr>\n",
       "      <th>3</th>\n",
       "      <td>0</td>\n",
       "      <td>33</td>\n",
       "      <td>32</td>\n",
       "      <td>2</td>\n",
       "      <td>1</td>\n",
       "      <td>7</td>\n",
       "      <td>1</td>\n",
       "      <td>1</td>\n",
       "      <td>6</td>\n",
       "      <td>1</td>\n",
       "      <td>249</td>\n",
       "      <td>1.0</td>\n",
       "      <td>72</td>\n",
       "      <td>29</td>\n",
       "      <td>34</td>\n",
       "    </tr>\n",
       "    <tr>\n",
       "      <th>4</th>\n",
       "      <td>0</td>\n",
       "      <td>33</td>\n",
       "      <td>32</td>\n",
       "      <td>2</td>\n",
       "      <td>1</td>\n",
       "      <td>8</td>\n",
       "      <td>3</td>\n",
       "      <td>0</td>\n",
       "      <td>5</td>\n",
       "      <td>1</td>\n",
       "      <td>174</td>\n",
       "      <td>0.0</td>\n",
       "      <td>112</td>\n",
       "      <td>29</td>\n",
       "      <td>43</td>\n",
       "    </tr>\n",
       "  </tbody>\n",
       "</table>\n",
       "</div>"
      ],
      "text/plain": [
       "   X_1  X_2  X_3  X_4  X_5  X_6  X_7  X_8  X_9  X_10  X_11  X_12  X_13  X_14  X_15\n",
       "0    0   36   34    2    1    5    6    1    6     1   174   1.0    92    29    36\n",
       "1    1   37   37    0    0   11   17    1    6     1   236   1.0   103   142    34\n",
       "2    0    3    2    3    5    1    0    2    3     1   174   1.0   110    93    34\n",
       "3    0   33   32    2    1    7    1    1    6     1   249   1.0    72    29    34\n",
       "4    0   33   32    2    1    8    3    0    5     1   174   0.0   112    29    43"
      ]
     },
     "execution_count": 77,
     "metadata": {},
     "output_type": "execute_result"
    }
   ],
   "source": [
    "data=df[['X_1','X_2','X_3','X_4','X_5','X_6','X_7','X_8','X_9','X_10','X_11','X_12','X_13','X_14','X_15']]\n",
    "data.head()"
   ]
  },
  {
   "cell_type": "code",
   "execution_count": 78,
   "metadata": {},
   "outputs": [
    {
     "data": {
      "text/plain": [
       "array([[-0.33602492,  0.73548947,  0.61861178, -0.77319018, -0.74150225,\n",
       "        -0.25810872,  0.28942158,  0.01895257,  0.78957509, -0.21871449,\n",
       "        -0.35423007,  0.02212593,  0.24505213, -1.00872781,  0.30229601],\n",
       "       [ 0.35856051,  0.80110665,  0.81683078, -1.45239719, -1.2509127 ,\n",
       "         1.08367417,  3.12312251,  0.01895257,  0.78957509, -0.21871449,\n",
       "         0.3122116 ,  0.02212593,  0.64365126,  1.60118818,  0.06382199],\n",
       "       [-0.33602492, -1.42987743, -1.4957242 , -0.43358667,  1.29613953,\n",
       "        -1.15263065, -1.25623348,  0.70712981, -1.41210456, -0.21871449,\n",
       "        -0.35423007,  0.02212593,  0.89730526,  0.46945469,  0.06382199],\n",
       "       [-0.33602492,  0.53863793,  0.48646578, -0.77319018, -0.74150225,\n",
       "         0.18915224, -0.9986243 ,  0.01895257,  0.78957509, -0.21871449,\n",
       "         0.45194936,  0.02212593, -0.47967357, -1.00872781,  0.06382199],\n",
       "       [-0.33602492,  0.53863793,  0.48646578, -0.77319018, -0.74150225,\n",
       "         0.41278272, -0.48340595, -0.66922468,  0.05568187, -0.21871449,\n",
       "        -0.35423007, -0.837542  ,  0.96977783, -1.00872781,  1.13695506],\n",
       "       [-0.33602492,  1.32604408,  1.34541478,  1.94363788,  0.27731864,\n",
       "        -1.15263065, -1.25623348,  0.01895257,  0.78957509, -0.21871449,\n",
       "         1.03239856,  0.02212593, -0.47967357, -0.24653996,  0.06382199],\n",
       "       [-0.33602492,  0.3417864 ,  0.68468478,  0.92482736,  0.27731864,\n",
       "         0.18915224, -0.9986243 , -0.66922468,  0.05568187, -0.21871449,\n",
       "        -0.35423007, -0.837542  ,  0.96977783, -1.00872781,  1.13695506],\n",
       "       [-0.33602492, -1.10179154, -1.16535921,  0.92482736,  0.27731864,\n",
       "         0.6364132 ,  0.80463993, -0.66922468,  0.05568187, -0.21871449,\n",
       "         1.17213633,  0.02212593, -0.47967357, -0.24653996,  0.06382199],\n",
       "       [-0.33602492,  1.58851279,  1.60970677,  0.58522385,  1.29613953,\n",
       "         0.41278272, -0.48340595,  0.01895257, -2.879891  , -0.21871449,\n",
       "         1.17213633,  0.02212593,  0.64365126, -1.35517684,  0.06382199],\n",
       "       [ 0.35856051, -1.36426025, -1.3635782 ,  0.58522385,  1.29613953,\n",
       "         1.9781961 ,  1.31985828, -0.66922468,  0.05568187,  0.67471922,\n",
       "        -0.66595279,  0.02212593,  0.64365126, -1.00872781,  0.06382199]])"
      ]
     },
     "execution_count": 78,
     "metadata": {},
     "output_type": "execute_result"
    }
   ],
   "source": [
    "scaler=StandardScaler()\n",
    "data_scl=scaler.fit_transform(data)\n",
    "data_scl[:10]"
   ]
  },
  {
   "cell_type": "code",
   "execution_count": 79,
   "metadata": {},
   "outputs": [
    {
     "data": {
      "text/html": [
       "<div>\n",
       "<style scoped>\n",
       "    .dataframe tbody tr th:only-of-type {\n",
       "        vertical-align: middle;\n",
       "    }\n",
       "\n",
       "    .dataframe tbody tr th {\n",
       "        vertical-align: top;\n",
       "    }\n",
       "\n",
       "    .dataframe thead th {\n",
       "        text-align: right;\n",
       "    }\n",
       "</style>\n",
       "<table border=\"1\" class=\"dataframe\">\n",
       "  <thead>\n",
       "    <tr style=\"text-align: right;\">\n",
       "      <th></th>\n",
       "      <th>X_1</th>\n",
       "      <th>X_2</th>\n",
       "      <th>X_3</th>\n",
       "      <th>X_4</th>\n",
       "      <th>X_5</th>\n",
       "      <th>X_6</th>\n",
       "      <th>X_7</th>\n",
       "      <th>X_8</th>\n",
       "      <th>X_9</th>\n",
       "      <th>X_10</th>\n",
       "      <th>X_11</th>\n",
       "      <th>X_12</th>\n",
       "      <th>X_13</th>\n",
       "      <th>X_14</th>\n",
       "      <th>X_15</th>\n",
       "    </tr>\n",
       "  </thead>\n",
       "  <tbody>\n",
       "    <tr>\n",
       "      <th>0</th>\n",
       "      <td>-0.336025</td>\n",
       "      <td>0.735489</td>\n",
       "      <td>0.618612</td>\n",
       "      <td>-0.773190</td>\n",
       "      <td>-0.741502</td>\n",
       "      <td>-0.258109</td>\n",
       "      <td>0.289422</td>\n",
       "      <td>0.018953</td>\n",
       "      <td>0.789575</td>\n",
       "      <td>-0.218714</td>\n",
       "      <td>-0.354230</td>\n",
       "      <td>0.022126</td>\n",
       "      <td>0.245052</td>\n",
       "      <td>-1.008728</td>\n",
       "      <td>0.302296</td>\n",
       "    </tr>\n",
       "    <tr>\n",
       "      <th>1</th>\n",
       "      <td>0.358561</td>\n",
       "      <td>0.801107</td>\n",
       "      <td>0.816831</td>\n",
       "      <td>-1.452397</td>\n",
       "      <td>-1.250913</td>\n",
       "      <td>1.083674</td>\n",
       "      <td>3.123123</td>\n",
       "      <td>0.018953</td>\n",
       "      <td>0.789575</td>\n",
       "      <td>-0.218714</td>\n",
       "      <td>0.312212</td>\n",
       "      <td>0.022126</td>\n",
       "      <td>0.643651</td>\n",
       "      <td>1.601188</td>\n",
       "      <td>0.063822</td>\n",
       "    </tr>\n",
       "    <tr>\n",
       "      <th>2</th>\n",
       "      <td>-0.336025</td>\n",
       "      <td>-1.429877</td>\n",
       "      <td>-1.495724</td>\n",
       "      <td>-0.433587</td>\n",
       "      <td>1.296140</td>\n",
       "      <td>-1.152631</td>\n",
       "      <td>-1.256233</td>\n",
       "      <td>0.707130</td>\n",
       "      <td>-1.412105</td>\n",
       "      <td>-0.218714</td>\n",
       "      <td>-0.354230</td>\n",
       "      <td>0.022126</td>\n",
       "      <td>0.897305</td>\n",
       "      <td>0.469455</td>\n",
       "      <td>0.063822</td>\n",
       "    </tr>\n",
       "    <tr>\n",
       "      <th>3</th>\n",
       "      <td>-0.336025</td>\n",
       "      <td>0.538638</td>\n",
       "      <td>0.486466</td>\n",
       "      <td>-0.773190</td>\n",
       "      <td>-0.741502</td>\n",
       "      <td>0.189152</td>\n",
       "      <td>-0.998624</td>\n",
       "      <td>0.018953</td>\n",
       "      <td>0.789575</td>\n",
       "      <td>-0.218714</td>\n",
       "      <td>0.451949</td>\n",
       "      <td>0.022126</td>\n",
       "      <td>-0.479674</td>\n",
       "      <td>-1.008728</td>\n",
       "      <td>0.063822</td>\n",
       "    </tr>\n",
       "    <tr>\n",
       "      <th>4</th>\n",
       "      <td>-0.336025</td>\n",
       "      <td>0.538638</td>\n",
       "      <td>0.486466</td>\n",
       "      <td>-0.773190</td>\n",
       "      <td>-0.741502</td>\n",
       "      <td>0.412783</td>\n",
       "      <td>-0.483406</td>\n",
       "      <td>-0.669225</td>\n",
       "      <td>0.055682</td>\n",
       "      <td>-0.218714</td>\n",
       "      <td>-0.354230</td>\n",
       "      <td>-0.837542</td>\n",
       "      <td>0.969778</td>\n",
       "      <td>-1.008728</td>\n",
       "      <td>1.136955</td>\n",
       "    </tr>\n",
       "  </tbody>\n",
       "</table>\n",
       "</div>"
      ],
      "text/plain": [
       "        X_1       X_2       X_3       X_4       X_5       X_6       X_7       X_8       X_9      X_10      X_11      X_12      X_13      X_14      X_15\n",
       "0 -0.336025  0.735489  0.618612 -0.773190 -0.741502 -0.258109  0.289422  0.018953  0.789575 -0.218714 -0.354230  0.022126  0.245052 -1.008728  0.302296\n",
       "1  0.358561  0.801107  0.816831 -1.452397 -1.250913  1.083674  3.123123  0.018953  0.789575 -0.218714  0.312212  0.022126  0.643651  1.601188  0.063822\n",
       "2 -0.336025 -1.429877 -1.495724 -0.433587  1.296140 -1.152631 -1.256233  0.707130 -1.412105 -0.218714 -0.354230  0.022126  0.897305  0.469455  0.063822\n",
       "3 -0.336025  0.538638  0.486466 -0.773190 -0.741502  0.189152 -0.998624  0.018953  0.789575 -0.218714  0.451949  0.022126 -0.479674 -1.008728  0.063822\n",
       "4 -0.336025  0.538638  0.486466 -0.773190 -0.741502  0.412783 -0.483406 -0.669225  0.055682 -0.218714 -0.354230 -0.837542  0.969778 -1.008728  1.136955"
      ]
     },
     "execution_count": 79,
     "metadata": {},
     "output_type": "execute_result"
    }
   ],
   "source": [
    "data_scl=pd.DataFrame(data_scl,columns=data.columns)\n",
    "data_scl.head()"
   ]
  },
  {
   "cell_type": "code",
   "execution_count": 80,
   "metadata": {},
   "outputs": [
    {
     "data": {
      "text/html": [
       "<div>\n",
       "<style scoped>\n",
       "    .dataframe tbody tr th:only-of-type {\n",
       "        vertical-align: middle;\n",
       "    }\n",
       "\n",
       "    .dataframe tbody tr th {\n",
       "        vertical-align: top;\n",
       "    }\n",
       "\n",
       "    .dataframe thead th {\n",
       "        text-align: right;\n",
       "    }\n",
       "</style>\n",
       "<table border=\"1\" class=\"dataframe\">\n",
       "  <thead>\n",
       "    <tr style=\"text-align: right;\">\n",
       "      <th></th>\n",
       "      <th>Skewed Features</th>\n",
       "    </tr>\n",
       "  </thead>\n",
       "  <tbody>\n",
       "    <tr>\n",
       "      <th>X_10</th>\n",
       "      <td>34.940516</td>\n",
       "    </tr>\n",
       "    <tr>\n",
       "      <th>X_12</th>\n",
       "      <td>30.733923</td>\n",
       "    </tr>\n",
       "    <tr>\n",
       "      <th>X_8</th>\n",
       "      <td>17.702736</td>\n",
       "    </tr>\n",
       "    <tr>\n",
       "      <th>X_1</th>\n",
       "      <td>3.789069</td>\n",
       "    </tr>\n",
       "    <tr>\n",
       "      <th>X_6</th>\n",
       "      <td>0.960769</td>\n",
       "    </tr>\n",
       "    <tr>\n",
       "      <th>X_7</th>\n",
       "      <td>0.796118</td>\n",
       "    </tr>\n",
       "    <tr>\n",
       "      <th>X_14</th>\n",
       "      <td>0.245572</td>\n",
       "    </tr>\n",
       "    <tr>\n",
       "      <th>X_4</th>\n",
       "      <td>0.183382</td>\n",
       "    </tr>\n",
       "    <tr>\n",
       "      <th>X_5</th>\n",
       "      <td>0.175220</td>\n",
       "    </tr>\n",
       "    <tr>\n",
       "      <th>X_3</th>\n",
       "      <td>-0.082115</td>\n",
       "    </tr>\n",
       "    <tr>\n",
       "      <th>X_2</th>\n",
       "      <td>-0.094746</td>\n",
       "    </tr>\n",
       "    <tr>\n",
       "      <th>X_11</th>\n",
       "      <td>-0.903143</td>\n",
       "    </tr>\n",
       "    <tr>\n",
       "      <th>X_13</th>\n",
       "      <td>-1.388549</td>\n",
       "    </tr>\n",
       "    <tr>\n",
       "      <th>X_9</th>\n",
       "      <td>-1.525191</td>\n",
       "    </tr>\n",
       "    <tr>\n",
       "      <th>X_15</th>\n",
       "      <td>-2.527295</td>\n",
       "    </tr>\n",
       "  </tbody>\n",
       "</table>\n",
       "</div>"
      ],
      "text/plain": [
       "      Skewed Features\n",
       "X_10        34.940516\n",
       "X_12        30.733923\n",
       "X_8         17.702736\n",
       "X_1          3.789069\n",
       "X_6          0.960769\n",
       "X_7          0.796118\n",
       "X_14         0.245572\n",
       "X_4          0.183382\n",
       "X_5          0.175220\n",
       "X_3         -0.082115\n",
       "X_2         -0.094746\n",
       "X_11        -0.903143\n",
       "X_13        -1.388549\n",
       "X_9         -1.525191\n",
       "X_15        -2.527295"
      ]
     },
     "execution_count": 80,
     "metadata": {},
     "output_type": "execute_result"
    }
   ],
   "source": [
    "# Checking the skewness in all the other numerical features.\n",
    "\n",
    "from scipy.stats import skew\n",
    "skewed_feats = data_scl.apply(lambda x: skew(x.dropna())).sort_values(ascending=False)\n",
    "skewness = pd.DataFrame({'Skewed Features':skewed_feats})\n",
    "skewness"
   ]
  },
  {
   "cell_type": "code",
   "execution_count": 81,
   "metadata": {},
   "outputs": [],
   "source": [
    "# Filtering out the features where skewness is more than 1 or less than -1.\n",
    "\n",
    "skewed_feats1 = skewed_feats[skewed_feats > 1]\n",
    "skewed_feats1 = skewed_feats1.index\n",
    "\n",
    "skewed_feats2 = skewed_feats[skewed_feats < -1]\n",
    "skewed_feats2 = skewed_feats2.index"
   ]
  },
  {
   "cell_type": "code",
   "execution_count": 82,
   "metadata": {},
   "outputs": [
    {
     "data": {
      "text/plain": [
       "Index(['X_10', 'X_12', 'X_8', 'X_1'], dtype='object')"
      ]
     },
     "execution_count": 82,
     "metadata": {},
     "output_type": "execute_result"
    }
   ],
   "source": [
    "skewed_feats1"
   ]
  },
  {
   "cell_type": "code",
   "execution_count": 83,
   "metadata": {},
   "outputs": [
    {
     "data": {
      "text/plain": [
       "Index(['X_13', 'X_9', 'X_15'], dtype='object')"
      ]
     },
     "execution_count": 83,
     "metadata": {},
     "output_type": "execute_result"
    }
   ],
   "source": [
    "skewed_feats2"
   ]
  },
  {
   "cell_type": "code",
   "execution_count": 84,
   "metadata": {},
   "outputs": [],
   "source": [
    "# Converting the skewed numerical features into log scale. Here a constant '150' is added to facilitate the log transformation\n",
    "# of negative values.\n",
    "\n",
    "data_scl[skewed_feats1] = np.log1p(data_scl[skewed_feats1] + 150)\n",
    "\n",
    "data_scl[skewed_feats2] = np.log1p(data_scl[skewed_feats2] + 150)"
   ]
  },
  {
   "cell_type": "code",
   "execution_count": 85,
   "metadata": {},
   "outputs": [
    {
     "data": {
      "text/html": [
       "<div>\n",
       "<style scoped>\n",
       "    .dataframe tbody tr th:only-of-type {\n",
       "        vertical-align: middle;\n",
       "    }\n",
       "\n",
       "    .dataframe tbody tr th {\n",
       "        vertical-align: top;\n",
       "    }\n",
       "\n",
       "    .dataframe thead th {\n",
       "        text-align: right;\n",
       "    }\n",
       "</style>\n",
       "<table border=\"1\" class=\"dataframe\">\n",
       "  <thead>\n",
       "    <tr style=\"text-align: right;\">\n",
       "      <th></th>\n",
       "      <th>X_1</th>\n",
       "      <th>X_2</th>\n",
       "      <th>X_3</th>\n",
       "      <th>X_4</th>\n",
       "      <th>X_5</th>\n",
       "      <th>X_6</th>\n",
       "      <th>X_7</th>\n",
       "      <th>X_8</th>\n",
       "      <th>X_9</th>\n",
       "      <th>X_10</th>\n",
       "      <th>X_11</th>\n",
       "      <th>X_12</th>\n",
       "      <th>X_13</th>\n",
       "      <th>X_14</th>\n",
       "      <th>X_15</th>\n",
       "    </tr>\n",
       "  </thead>\n",
       "  <tbody>\n",
       "    <tr>\n",
       "      <th>0</th>\n",
       "      <td>5.015052</td>\n",
       "      <td>0.735489</td>\n",
       "      <td>0.618612</td>\n",
       "      <td>-0.773190</td>\n",
       "      <td>-0.741502</td>\n",
       "      <td>-0.258109</td>\n",
       "      <td>0.289422</td>\n",
       "      <td>5.017405</td>\n",
       "      <td>5.022495</td>\n",
       "      <td>5.01583</td>\n",
       "      <td>-0.354230</td>\n",
       "      <td>5.017426</td>\n",
       "      <td>5.018901</td>\n",
       "      <td>-1.008728</td>\n",
       "      <td>5.019280</td>\n",
       "    </tr>\n",
       "    <tr>\n",
       "      <th>1</th>\n",
       "      <td>5.019652</td>\n",
       "      <td>0.801107</td>\n",
       "      <td>0.816831</td>\n",
       "      <td>-1.452397</td>\n",
       "      <td>-1.250913</td>\n",
       "      <td>1.083674</td>\n",
       "      <td>3.123123</td>\n",
       "      <td>5.017405</td>\n",
       "      <td>5.022495</td>\n",
       "      <td>5.01583</td>\n",
       "      <td>0.312212</td>\n",
       "      <td>5.017426</td>\n",
       "      <td>5.021533</td>\n",
       "      <td>1.601188</td>\n",
       "      <td>5.017702</td>\n",
       "    </tr>\n",
       "    <tr>\n",
       "      <th>2</th>\n",
       "      <td>5.015052</td>\n",
       "      <td>-1.429877</td>\n",
       "      <td>-1.495724</td>\n",
       "      <td>-0.433587</td>\n",
       "      <td>1.296140</td>\n",
       "      <td>-1.152631</td>\n",
       "      <td>-1.256233</td>\n",
       "      <td>5.021952</td>\n",
       "      <td>5.007884</td>\n",
       "      <td>5.01583</td>\n",
       "      <td>-0.354230</td>\n",
       "      <td>5.017426</td>\n",
       "      <td>5.023205</td>\n",
       "      <td>0.469455</td>\n",
       "      <td>5.017702</td>\n",
       "    </tr>\n",
       "    <tr>\n",
       "      <th>3</th>\n",
       "      <td>5.015052</td>\n",
       "      <td>0.538638</td>\n",
       "      <td>0.486466</td>\n",
       "      <td>-0.773190</td>\n",
       "      <td>-0.741502</td>\n",
       "      <td>0.189152</td>\n",
       "      <td>-0.998624</td>\n",
       "      <td>5.017405</td>\n",
       "      <td>5.022495</td>\n",
       "      <td>5.01583</td>\n",
       "      <td>0.451949</td>\n",
       "      <td>5.017426</td>\n",
       "      <td>5.014098</td>\n",
       "      <td>-1.008728</td>\n",
       "      <td>5.017702</td>\n",
       "    </tr>\n",
       "    <tr>\n",
       "      <th>4</th>\n",
       "      <td>5.015052</td>\n",
       "      <td>0.538638</td>\n",
       "      <td>0.486466</td>\n",
       "      <td>-0.773190</td>\n",
       "      <td>-0.741502</td>\n",
       "      <td>0.412783</td>\n",
       "      <td>-0.483406</td>\n",
       "      <td>5.012838</td>\n",
       "      <td>5.017649</td>\n",
       "      <td>5.01583</td>\n",
       "      <td>-0.354230</td>\n",
       "      <td>5.011718</td>\n",
       "      <td>5.023682</td>\n",
       "      <td>-1.008728</td>\n",
       "      <td>5.024781</td>\n",
       "    </tr>\n",
       "  </tbody>\n",
       "</table>\n",
       "</div>"
      ],
      "text/plain": [
       "        X_1       X_2       X_3       X_4       X_5       X_6       X_7       X_8       X_9     X_10      X_11      X_12      X_13      X_14      X_15\n",
       "0  5.015052  0.735489  0.618612 -0.773190 -0.741502 -0.258109  0.289422  5.017405  5.022495  5.01583 -0.354230  5.017426  5.018901 -1.008728  5.019280\n",
       "1  5.019652  0.801107  0.816831 -1.452397 -1.250913  1.083674  3.123123  5.017405  5.022495  5.01583  0.312212  5.017426  5.021533  1.601188  5.017702\n",
       "2  5.015052 -1.429877 -1.495724 -0.433587  1.296140 -1.152631 -1.256233  5.021952  5.007884  5.01583 -0.354230  5.017426  5.023205  0.469455  5.017702\n",
       "3  5.015052  0.538638  0.486466 -0.773190 -0.741502  0.189152 -0.998624  5.017405  5.022495  5.01583  0.451949  5.017426  5.014098 -1.008728  5.017702\n",
       "4  5.015052  0.538638  0.486466 -0.773190 -0.741502  0.412783 -0.483406  5.012838  5.017649  5.01583 -0.354230  5.011718  5.023682 -1.008728  5.024781"
      ]
     },
     "execution_count": 85,
     "metadata": {},
     "output_type": "execute_result"
    }
   ],
   "source": [
    "data_scl.head()"
   ]
  },
  {
   "cell_type": "code",
   "execution_count": 86,
   "metadata": {},
   "outputs": [
    {
     "data": {
      "text/html": [
       "<div>\n",
       "<style scoped>\n",
       "    .dataframe tbody tr th:only-of-type {\n",
       "        vertical-align: middle;\n",
       "    }\n",
       "\n",
       "    .dataframe tbody tr th {\n",
       "        vertical-align: top;\n",
       "    }\n",
       "\n",
       "    .dataframe thead th {\n",
       "        text-align: right;\n",
       "    }\n",
       "</style>\n",
       "<table border=\"1\" class=\"dataframe\">\n",
       "  <thead>\n",
       "    <tr style=\"text-align: right;\">\n",
       "      <th></th>\n",
       "      <th>X_1</th>\n",
       "      <th>X_2</th>\n",
       "      <th>X_3</th>\n",
       "      <th>X_4</th>\n",
       "      <th>X_5</th>\n",
       "      <th>X_6</th>\n",
       "      <th>X_7</th>\n",
       "      <th>X_8</th>\n",
       "      <th>X_9</th>\n",
       "      <th>X_10</th>\n",
       "      <th>X_11</th>\n",
       "      <th>X_12</th>\n",
       "      <th>X_13</th>\n",
       "      <th>X_14</th>\n",
       "      <th>X_15</th>\n",
       "      <th>MULTIPLE_OFFENSE</th>\n",
       "    </tr>\n",
       "  </thead>\n",
       "  <tbody>\n",
       "    <tr>\n",
       "      <th>0</th>\n",
       "      <td>5.015052</td>\n",
       "      <td>0.735489</td>\n",
       "      <td>0.618612</td>\n",
       "      <td>-0.773190</td>\n",
       "      <td>-0.741502</td>\n",
       "      <td>-0.258109</td>\n",
       "      <td>0.289422</td>\n",
       "      <td>5.017405</td>\n",
       "      <td>5.022495</td>\n",
       "      <td>5.01583</td>\n",
       "      <td>-0.354230</td>\n",
       "      <td>5.017426</td>\n",
       "      <td>5.018901</td>\n",
       "      <td>-1.008728</td>\n",
       "      <td>5.019280</td>\n",
       "      <td>0</td>\n",
       "    </tr>\n",
       "    <tr>\n",
       "      <th>1</th>\n",
       "      <td>5.019652</td>\n",
       "      <td>0.801107</td>\n",
       "      <td>0.816831</td>\n",
       "      <td>-1.452397</td>\n",
       "      <td>-1.250913</td>\n",
       "      <td>1.083674</td>\n",
       "      <td>3.123123</td>\n",
       "      <td>5.017405</td>\n",
       "      <td>5.022495</td>\n",
       "      <td>5.01583</td>\n",
       "      <td>0.312212</td>\n",
       "      <td>5.017426</td>\n",
       "      <td>5.021533</td>\n",
       "      <td>1.601188</td>\n",
       "      <td>5.017702</td>\n",
       "      <td>1</td>\n",
       "    </tr>\n",
       "    <tr>\n",
       "      <th>2</th>\n",
       "      <td>5.015052</td>\n",
       "      <td>-1.429877</td>\n",
       "      <td>-1.495724</td>\n",
       "      <td>-0.433587</td>\n",
       "      <td>1.296140</td>\n",
       "      <td>-1.152631</td>\n",
       "      <td>-1.256233</td>\n",
       "      <td>5.021952</td>\n",
       "      <td>5.007884</td>\n",
       "      <td>5.01583</td>\n",
       "      <td>-0.354230</td>\n",
       "      <td>5.017426</td>\n",
       "      <td>5.023205</td>\n",
       "      <td>0.469455</td>\n",
       "      <td>5.017702</td>\n",
       "      <td>1</td>\n",
       "    </tr>\n",
       "    <tr>\n",
       "      <th>3</th>\n",
       "      <td>5.015052</td>\n",
       "      <td>0.538638</td>\n",
       "      <td>0.486466</td>\n",
       "      <td>-0.773190</td>\n",
       "      <td>-0.741502</td>\n",
       "      <td>0.189152</td>\n",
       "      <td>-0.998624</td>\n",
       "      <td>5.017405</td>\n",
       "      <td>5.022495</td>\n",
       "      <td>5.01583</td>\n",
       "      <td>0.451949</td>\n",
       "      <td>5.017426</td>\n",
       "      <td>5.014098</td>\n",
       "      <td>-1.008728</td>\n",
       "      <td>5.017702</td>\n",
       "      <td>1</td>\n",
       "    </tr>\n",
       "    <tr>\n",
       "      <th>4</th>\n",
       "      <td>5.015052</td>\n",
       "      <td>0.538638</td>\n",
       "      <td>0.486466</td>\n",
       "      <td>-0.773190</td>\n",
       "      <td>-0.741502</td>\n",
       "      <td>0.412783</td>\n",
       "      <td>-0.483406</td>\n",
       "      <td>5.012838</td>\n",
       "      <td>5.017649</td>\n",
       "      <td>5.01583</td>\n",
       "      <td>-0.354230</td>\n",
       "      <td>5.011718</td>\n",
       "      <td>5.023682</td>\n",
       "      <td>-1.008728</td>\n",
       "      <td>5.024781</td>\n",
       "      <td>1</td>\n",
       "    </tr>\n",
       "  </tbody>\n",
       "</table>\n",
       "</div>"
      ],
      "text/plain": [
       "        X_1       X_2       X_3       X_4       X_5       X_6       X_7       X_8       X_9     X_10      X_11      X_12      X_13      X_14      X_15  MULTIPLE_OFFENSE\n",
       "0  5.015052  0.735489  0.618612 -0.773190 -0.741502 -0.258109  0.289422  5.017405  5.022495  5.01583 -0.354230  5.017426  5.018901 -1.008728  5.019280                 0\n",
       "1  5.019652  0.801107  0.816831 -1.452397 -1.250913  1.083674  3.123123  5.017405  5.022495  5.01583  0.312212  5.017426  5.021533  1.601188  5.017702                 1\n",
       "2  5.015052 -1.429877 -1.495724 -0.433587  1.296140 -1.152631 -1.256233  5.021952  5.007884  5.01583 -0.354230  5.017426  5.023205  0.469455  5.017702                 1\n",
       "3  5.015052  0.538638  0.486466 -0.773190 -0.741502  0.189152 -0.998624  5.017405  5.022495  5.01583  0.451949  5.017426  5.014098 -1.008728  5.017702                 1\n",
       "4  5.015052  0.538638  0.486466 -0.773190 -0.741502  0.412783 -0.483406  5.012838  5.017649  5.01583 -0.354230  5.011718  5.023682 -1.008728  5.024781                 1"
      ]
     },
     "execution_count": 86,
     "metadata": {},
     "output_type": "execute_result"
    }
   ],
   "source": [
    "data_hk=pd.concat([data_scl,df['MULTIPLE_OFFENSE']],axis=1)\n",
    "data_hk.head()"
   ]
  },
  {
   "cell_type": "code",
   "execution_count": 87,
   "metadata": {},
   "outputs": [
    {
     "data": {
      "text/plain": [
       "<Figure size 432x288 with 0 Axes>"
      ]
     },
     "metadata": {},
     "output_type": "display_data"
    },
    {
     "data": {
      "image/png": "[encoded data removed]",
      "text/plain": [
       "<Figure size 864x576 with 15 Axes>"
      ]
     },
     "metadata": {},
     "output_type": "display_data"
    }
   ],
   "source": [
    "# plotting the histogram of the variables from the dataset to check the skewness.\n",
    "\n",
    "var = ['X_1','X_2','X_3','X_4','X_5','X_6','X_7','X_8','X_9','X_10','X_11','X_12','X_13','X_14','X_15']\n",
    "\n",
    "i = 0\n",
    "t0 = data_hk.loc[data_hk['MULTIPLE_OFFENSE'] == 0]\n",
    "t1 = data_hk.loc[data_hk['MULTIPLE_OFFENSE'] == 1]\n",
    "\n",
    "sns.set_style('whitegrid')\n",
    "plt.figure()\n",
    "fig, ax = plt.subplots(3,5, figsize = (12,8))\n",
    "\n",
    "for feature in var:\n",
    "    i += 1\n",
    "    plt.subplot(3,5,i)\n",
    "    sns.distplot(t0[feature], label=\"MULTIPLE_OFFENSE = 0\")\n",
    "    sns.distplot(t1[feature], label=\"MULTIPLE_OFFENSE = 1\")\n",
    "    plt.xlabel(feature, fontsize=12)\n",
    "    locs, labels = plt.xticks()\n",
    "    plt.tick_params(axis='both', which='major', labelsize=12)\n",
    "plt.show();"
   ]
  },
  {
   "cell_type": "code",
   "execution_count": 88,
   "metadata": {},
   "outputs": [
    {
     "data": {
      "text/html": [
       "<div>\n",
       "<style scoped>\n",
       "    .dataframe tbody tr th:only-of-type {\n",
       "        vertical-align: middle;\n",
       "    }\n",
       "\n",
       "    .dataframe tbody tr th {\n",
       "        vertical-align: top;\n",
       "    }\n",
       "\n",
       "    .dataframe thead th {\n",
       "        text-align: right;\n",
       "    }\n",
       "</style>\n",
       "<table border=\"1\" class=\"dataframe\">\n",
       "  <thead>\n",
       "    <tr style=\"text-align: right;\">\n",
       "      <th></th>\n",
       "      <th>X_1</th>\n",
       "      <th>X_2</th>\n",
       "      <th>X_3</th>\n",
       "      <th>X_4</th>\n",
       "      <th>X_5</th>\n",
       "      <th>X_6</th>\n",
       "      <th>X_7</th>\n",
       "      <th>X_8</th>\n",
       "      <th>X_9</th>\n",
       "      <th>X_10</th>\n",
       "      <th>X_11</th>\n",
       "      <th>X_12</th>\n",
       "      <th>X_13</th>\n",
       "      <th>X_14</th>\n",
       "      <th>X_15</th>\n",
       "    </tr>\n",
       "  </thead>\n",
       "  <tbody>\n",
       "    <tr>\n",
       "      <th>0</th>\n",
       "      <td>5.015052</td>\n",
       "      <td>0.735489</td>\n",
       "      <td>0.618612</td>\n",
       "      <td>-0.773190</td>\n",
       "      <td>-0.741502</td>\n",
       "      <td>-0.258109</td>\n",
       "      <td>0.289422</td>\n",
       "      <td>5.017405</td>\n",
       "      <td>5.022495</td>\n",
       "      <td>5.01583</td>\n",
       "      <td>-0.354230</td>\n",
       "      <td>5.017426</td>\n",
       "      <td>5.018901</td>\n",
       "      <td>-1.008728</td>\n",
       "      <td>5.019280</td>\n",
       "    </tr>\n",
       "    <tr>\n",
       "      <th>1</th>\n",
       "      <td>5.019652</td>\n",
       "      <td>0.801107</td>\n",
       "      <td>0.816831</td>\n",
       "      <td>-1.452397</td>\n",
       "      <td>-1.250913</td>\n",
       "      <td>1.083674</td>\n",
       "      <td>3.123123</td>\n",
       "      <td>5.017405</td>\n",
       "      <td>5.022495</td>\n",
       "      <td>5.01583</td>\n",
       "      <td>0.312212</td>\n",
       "      <td>5.017426</td>\n",
       "      <td>5.021533</td>\n",
       "      <td>1.601188</td>\n",
       "      <td>5.017702</td>\n",
       "    </tr>\n",
       "    <tr>\n",
       "      <th>2</th>\n",
       "      <td>5.015052</td>\n",
       "      <td>-1.429877</td>\n",
       "      <td>-1.495724</td>\n",
       "      <td>-0.433587</td>\n",
       "      <td>1.296140</td>\n",
       "      <td>-1.152631</td>\n",
       "      <td>-1.256233</td>\n",
       "      <td>5.021952</td>\n",
       "      <td>5.007884</td>\n",
       "      <td>5.01583</td>\n",
       "      <td>-0.354230</td>\n",
       "      <td>5.017426</td>\n",
       "      <td>5.023205</td>\n",
       "      <td>0.469455</td>\n",
       "      <td>5.017702</td>\n",
       "    </tr>\n",
       "    <tr>\n",
       "      <th>3</th>\n",
       "      <td>5.015052</td>\n",
       "      <td>0.538638</td>\n",
       "      <td>0.486466</td>\n",
       "      <td>-0.773190</td>\n",
       "      <td>-0.741502</td>\n",
       "      <td>0.189152</td>\n",
       "      <td>-0.998624</td>\n",
       "      <td>5.017405</td>\n",
       "      <td>5.022495</td>\n",
       "      <td>5.01583</td>\n",
       "      <td>0.451949</td>\n",
       "      <td>5.017426</td>\n",
       "      <td>5.014098</td>\n",
       "      <td>-1.008728</td>\n",
       "      <td>5.017702</td>\n",
       "    </tr>\n",
       "    <tr>\n",
       "      <th>4</th>\n",
       "      <td>5.015052</td>\n",
       "      <td>0.538638</td>\n",
       "      <td>0.486466</td>\n",
       "      <td>-0.773190</td>\n",
       "      <td>-0.741502</td>\n",
       "      <td>0.412783</td>\n",
       "      <td>-0.483406</td>\n",
       "      <td>5.012838</td>\n",
       "      <td>5.017649</td>\n",
       "      <td>5.01583</td>\n",
       "      <td>-0.354230</td>\n",
       "      <td>5.011718</td>\n",
       "      <td>5.023682</td>\n",
       "      <td>-1.008728</td>\n",
       "      <td>5.024781</td>\n",
       "    </tr>\n",
       "  </tbody>\n",
       "</table>\n",
       "</div>"
      ],
      "text/plain": [
       "        X_1       X_2       X_3       X_4       X_5       X_6       X_7       X_8       X_9     X_10      X_11      X_12      X_13      X_14      X_15\n",
       "0  5.015052  0.735489  0.618612 -0.773190 -0.741502 -0.258109  0.289422  5.017405  5.022495  5.01583 -0.354230  5.017426  5.018901 -1.008728  5.019280\n",
       "1  5.019652  0.801107  0.816831 -1.452397 -1.250913  1.083674  3.123123  5.017405  5.022495  5.01583  0.312212  5.017426  5.021533  1.601188  5.017702\n",
       "2  5.015052 -1.429877 -1.495724 -0.433587  1.296140 -1.152631 -1.256233  5.021952  5.007884  5.01583 -0.354230  5.017426  5.023205  0.469455  5.017702\n",
       "3  5.015052  0.538638  0.486466 -0.773190 -0.741502  0.189152 -0.998624  5.017405  5.022495  5.01583  0.451949  5.017426  5.014098 -1.008728  5.017702\n",
       "4  5.015052  0.538638  0.486466 -0.773190 -0.741502  0.412783 -0.483406  5.012838  5.017649  5.01583 -0.354230  5.011718  5.023682 -1.008728  5.024781"
      ]
     },
     "execution_count": 88,
     "metadata": {},
     "output_type": "execute_result"
    }
   ],
   "source": [
    "# Creating 'X' dataframe for modelling.\n",
    "\n",
    "X = data_hk.drop('MULTIPLE_OFFENSE', axis=1)\n",
    "X.head()"
   ]
  },
  {
   "cell_type": "code",
   "execution_count": 89,
   "metadata": {},
   "outputs": [
    {
     "data": {
      "text/plain": [
       "(23856, 15)"
      ]
     },
     "execution_count": 89,
     "metadata": {},
     "output_type": "execute_result"
    }
   ],
   "source": [
    "# Looking at the shape.\n",
    "\n",
    "X.shape"
   ]
  },
  {
   "cell_type": "code",
   "execution_count": 90,
   "metadata": {},
   "outputs": [
    {
     "data": {
      "text/plain": [
       "0    0\n",
       "1    1\n",
       "2    1\n",
       "3    1\n",
       "4    1\n",
       "Name: MULTIPLE_OFFENSE, dtype: int64"
      ]
     },
     "execution_count": 90,
     "metadata": {},
     "output_type": "execute_result"
    }
   ],
   "source": [
    "# Assigning target variable to y.\n",
    "\n",
    "y = data_hk['MULTIPLE_OFFENSE']\n",
    "y.head()"
   ]
  },
  {
   "cell_type": "code",
   "execution_count": 91,
   "metadata": {},
   "outputs": [],
   "source": [
    "# Splitting the dataset into train-test.\n",
    "\n",
    "from sklearn import model_selection\n",
    "\n",
    "X_train, X_test, y_train, y_test = train_test_split(X, y, train_size = 0.8, test_size = 0.2, stratify = y, shuffle = True, random_state = 100)\n",
    "\n",
    "# Here we have provided 'stratify = y' in the argument of 'train_test_split' function, so that same proportion of target \n",
    "# variable y is maintained in both train and test datasets. Also we have passed 'shuffle = True' to shuffle the dataset."
   ]
  },
  {
   "cell_type": "code",
   "execution_count": 92,
   "metadata": {},
   "outputs": [
    {
     "name": "stdout",
     "output_type": "stream",
     "text": [
      "(19084, 15)\n",
      "(4772, 15)\n",
      "(19084,)\n",
      "(4772,)\n"
     ]
    }
   ],
   "source": [
    "# Looking at the dimensions of the train and test sets.\n",
    "\n",
    "print(X_train.shape)\n",
    "print(X_test.shape)\n",
    "print(y_train.shape)\n",
    "print(y_test.shape)"
   ]
  },
  {
   "cell_type": "code",
   "execution_count": 93,
   "metadata": {},
   "outputs": [
    {
     "name": "stdout",
     "output_type": "stream",
     "text": [
      "22788\n",
      "18230\n",
      "4558\n"
     ]
    }
   ],
   "source": [
    "# looking at the proportion of target variable in train and test sets.\n",
    "\n",
    "print(np.sum(y))\n",
    "print(np.sum(y_train))\n",
    "print(np.sum(y_test))"
   ]
  },
  {
   "cell_type": "code",
   "execution_count": 94,
   "metadata": {},
   "outputs": [],
   "source": [
    "# Hyperparameter tuning for Logistic Regression model.\n",
    "\n",
    "log_reg_params = {'penalty': ['l1', 'l2'], 'C': [0.001, 0.01, 0.1, 1, 10, 100, 1000]}\n",
    "\n",
    "grid_search = GridSearchCV(estimator = LogisticRegression(), param_grid = log_reg_params, cv = 3, n_jobs = -1, verbose = 1)"
   ]
  },
  {
   "cell_type": "code",
   "execution_count": 95,
   "metadata": {},
   "outputs": [
    {
     "name": "stdout",
     "output_type": "stream",
     "text": [
      "Fitting 3 folds for each of 14 candidates, totalling 42 fits\n"
     ]
    },
    {
     "name": "stderr",
     "output_type": "stream",
     "text": [
      "[Parallel(n_jobs=-1)]: Using backend LokyBackend with 8 concurrent workers.\n",
      "[Parallel(n_jobs=-1)]: Done  42 out of  42 | elapsed:   25.1s finished\n"
     ]
    },
    {
     "data": {
      "text/plain": [
       "GridSearchCV(cv=3, error_score=nan,\n",
       "             estimator=LogisticRegression(C=1.0, class_weight=None, dual=False,\n",
       "                                          fit_intercept=True,\n",
       "                                          intercept_scaling=1, l1_ratio=None,\n",
       "                                          max_iter=100, multi_class='auto',\n",
       "                                          n_jobs=None, penalty='l2',\n",
       "                                          random_state=None, solver='lbfgs',\n",
       "                                          tol=0.0001, verbose=0,\n",
       "                                          warm_start=False),\n",
       "             iid='deprecated', n_jobs=-1,\n",
       "             param_grid={'C': [0.001, 0.01, 0.1, 1, 10, 100, 1000],\n",
       "                         'penalty': ['l1', 'l2']},\n",
       "             pre_dispatch='2*n_jobs', refit=True, return_train_score=False,\n",
       "             scoring=None, verbose=1)"
      ]
     },
     "execution_count": 95,
     "metadata": {},
     "output_type": "execute_result"
    }
   ],
   "source": [
    "# Fitting the Grid Search to the training dataset.\n",
    "\n",
    "grid_search.fit(X_train, y_train)"
   ]
  },
  {
   "cell_type": "code",
   "execution_count": 96,
   "metadata": {},
   "outputs": [
    {
     "name": "stdout",
     "output_type": "stream",
     "text": [
      "We can get accuracy of 0.9553 by using {'C': 0.001, 'penalty': 'l2'}\n"
     ]
    }
   ],
   "source": [
    "# Getting the optimal accuracy score and hyperparameters.\n",
    "\n",
    "print('We can get accuracy of', grid_search.best_score_.round(4), 'by using', grid_search.best_params_)"
   ]
  },
  {
   "cell_type": "code",
   "execution_count": 97,
   "metadata": {},
   "outputs": [
    {
     "data": {
      "text/plain": [
       "LogisticRegression(C=0.001, class_weight=None, dual=False, fit_intercept=True,\n",
       "                   intercept_scaling=1, l1_ratio=None, max_iter=100,\n",
       "                   multi_class='auto', n_jobs=None, penalty='l2',\n",
       "                   random_state=None, solver='lbfgs', tol=0.0001, verbose=0,\n",
       "                   warm_start=False)"
      ]
     },
     "execution_count": 97,
     "metadata": {},
     "output_type": "execute_result"
    }
   ],
   "source": [
    "# Building a model with the best hyperparameters.\n",
    "\n",
    "log_reg_final_1 = LogisticRegression(C = 0.001, penalty = 'l2')\n",
    "\n",
    "# Fitting on the training dataset.\n",
    "\n",
    "log_reg_final_1.fit(X_train, y_train)"
   ]
  },
  {
   "cell_type": "code",
   "execution_count": 98,
   "metadata": {},
   "outputs": [],
   "source": [
    "# Making predictions on the test dataset.\n",
    "\n",
    "log_reg_final_prediction_1 = log_reg_final_1.predict(X_test)"
   ]
  },
  {
   "cell_type": "code",
   "execution_count": 99,
   "metadata": {},
   "outputs": [
    {
     "data": {
      "text/plain": [
       "array([[   0,  214],\n",
       "       [   0, 4558]], dtype=int64)"
      ]
     },
     "execution_count": 99,
     "metadata": {},
     "output_type": "execute_result"
    }
   ],
   "source": [
    "# Looking at the confusion matrix.\n",
    "\n",
    "confusion1 = metrics.confusion_matrix(y_test, log_reg_final_prediction_1)\n",
    "confusion1"
   ]
  },
  {
   "cell_type": "code",
   "execution_count": 100,
   "metadata": {},
   "outputs": [
    {
     "name": "stdout",
     "output_type": "stream",
     "text": [
      "AUC: 50.00%\n"
     ]
    }
   ],
   "source": [
    "# Calculating the AUC.\n",
    "\n",
    "roc = metrics.roc_auc_score(y_test, log_reg_final_prediction_1)\n",
    "print(\"AUC: %.2f%%\" % (roc * 100.0))"
   ]
  },
  {
   "cell_type": "code",
   "execution_count": 101,
   "metadata": {},
   "outputs": [
    {
     "data": {
      "text/plain": [
       "1.0"
      ]
     },
     "execution_count": 101,
     "metadata": {},
     "output_type": "execute_result"
    }
   ],
   "source": [
    "metrics.recall_score(y_test, log_reg_final_prediction_1)"
   ]
  },
  {
   "cell_type": "code",
   "execution_count": 106,
   "metadata": {},
   "outputs": [
    {
     "data": {
      "text/plain": [
       "0.9551550712489523"
      ]
     },
     "execution_count": 106,
     "metadata": {},
     "output_type": "execute_result"
    }
   ],
   "source": [
    "metrics.accuracy_score(y_test, log_reg_final_prediction_1)"
   ]
  },
  {
   "cell_type": "code",
   "execution_count": 107,
   "metadata": {},
   "outputs": [
    {
     "data": {
      "text/plain": [
       "0.9770632368703108"
      ]
     },
     "execution_count": 107,
     "metadata": {},
     "output_type": "execute_result"
    }
   ],
   "source": [
    "metrics.f1_score(y_test, log_reg_final_prediction_1)"
   ]
  },
  {
   "cell_type": "code",
   "execution_count": 108,
   "metadata": {},
   "outputs": [],
   "source": [
    "# Defining a function to plot ROC curve.\n",
    "\n",
    "def draw_roc( actual, probs ):\n",
    "    fpr, tpr, thresholds = metrics.roc_curve(actual, probs, drop_intermediate = False)\n",
    "    auc_score = metrics.roc_auc_score(actual, probs)\n",
    "    plt.figure(figsize=(8, 8))\n",
    "    plt.plot( fpr, tpr, label='ROC curve (area = %0.2f)' % auc_score)\n",
    "    plt.plot([0, 1], [0, 1], 'k--')\n",
    "    plt.xlim([0.0, 1.05])\n",
    "    plt.ylim([0.0, 1.05])\n",
    "    plt.xlabel('False Positive Rate or [1 - True Negative Rate]', fontsize=16)\n",
    "    plt.ylabel('True Positive Rate', fontsize=16)\n",
    "    plt.title('ROC Curve', fontsize=18)\n",
    "    plt.xticks(rotation=0, fontsize=12)\n",
    "    plt.yticks(rotation=0, fontsize=12)\n",
    "    plt.legend(loc=\"lower right\")\n",
    "    plt.show()\n",
    "\n",
    "    return None"
   ]
  },
  {
   "cell_type": "code",
   "execution_count": 111,
   "metadata": {},
   "outputs": [],
   "source": [
    "# Creating the parameter grid.\n",
    "\n",
    "param_grid = {'max_depth': [3, 4, 5], 'min_samples_leaf': range(100, 400, 200), 'min_samples_split': range(100, 400, 200),\n",
    "              'n_estimators': [100, 200, 300], 'max_features': [10, 12, 14]}\n",
    "\n",
    "# Instantiating the random forest model.\n",
    "\n",
    "rf_tune = RandomForestClassifier(random_state=100)\n",
    "\n",
    "# Instantiating the Grid Search model.\n",
    "\n",
    "grid_search = GridSearchCV(estimator = rf_tune, param_grid = param_grid, cv = 3, n_jobs = -1, verbose = 1)"
   ]
  },
  {
   "cell_type": "code",
   "execution_count": 112,
   "metadata": {},
   "outputs": [
    {
     "name": "stdout",
     "output_type": "stream",
     "text": [
      "Fitting 3 folds for each of 108 candidates, totalling 324 fits\n"
     ]
    },
    {
     "name": "stderr",
     "output_type": "stream",
     "text": [
      "[Parallel(n_jobs=-1)]: Using backend LokyBackend with 8 concurrent workers.\n",
      "[Parallel(n_jobs=-1)]: Done  34 tasks      | elapsed:   46.7s\n",
      "[Parallel(n_jobs=-1)]: Done 184 tasks      | elapsed:  3.6min\n",
      "[Parallel(n_jobs=-1)]: Done 324 out of 324 | elapsed:  6.3min finished\n"
     ]
    },
    {
     "data": {
      "text/plain": [
       "GridSearchCV(cv=3, error_score=nan,\n",
       "             estimator=RandomForestClassifier(bootstrap=True, ccp_alpha=0.0,\n",
       "                                              class_weight=None,\n",
       "                                              criterion='gini', max_depth=None,\n",
       "                                              max_features='auto',\n",
       "                                              max_leaf_nodes=None,\n",
       "                                              max_samples=None,\n",
       "                                              min_impurity_decrease=0.0,\n",
       "                                              min_impurity_split=None,\n",
       "                                              min_samples_leaf=1,\n",
       "                                              min_samples_split=2,\n",
       "                                              min_weight_fraction_leaf=0.0,\n",
       "                                              n_estimators=100, n_jobs=None,\n",
       "                                              oob_score=False, random_state=100,\n",
       "                                              verbose=0, warm_start=False),\n",
       "             iid='deprecated', n_jobs=-1,\n",
       "             param_grid={'max_depth': [3, 4, 5], 'max_features': [10, 12, 14],\n",
       "                         'min_samples_leaf': range(100, 400, 200),\n",
       "                         'min_samples_split': range(100, 400, 200),\n",
       "                         'n_estimators': [100, 200, 300]},\n",
       "             pre_dispatch='2*n_jobs', refit=True, return_train_score=False,\n",
       "             scoring=None, verbose=1)"
      ]
     },
     "execution_count": 112,
     "metadata": {},
     "output_type": "execute_result"
    }
   ],
   "source": [
    "# Fitting the Grid Search to the training dataset.\n",
    "\n",
    "grid_search.fit(X_train, y_train)"
   ]
  },
  {
   "cell_type": "code",
   "execution_count": 113,
   "metadata": {},
   "outputs": [
    {
     "name": "stdout",
     "output_type": "stream",
     "text": [
      "We can get accuracy of 0.9791 by using {'max_depth': 5, 'max_features': 12, 'min_samples_leaf': 100, 'min_samples_split': 100, 'n_estimators': 200}\n"
     ]
    }
   ],
   "source": [
    "# Getting the optimal accuracy score and hyperparameters.\n",
    "\n",
    "print('We can get accuracy of', grid_search.best_score_.round(4), 'by using', grid_search.best_params_)"
   ]
  },
  {
   "cell_type": "code",
   "execution_count": 114,
   "metadata": {},
   "outputs": [
    {
     "data": {
      "text/plain": [
       "RandomForestClassifier(bootstrap=True, ccp_alpha=0.0, class_weight=None,\n",
       "                       criterion='gini', max_depth=5, max_features=12,\n",
       "                       max_leaf_nodes=None, max_samples=None,\n",
       "                       min_impurity_decrease=0.0, min_impurity_split=None,\n",
       "                       min_samples_leaf=100, min_samples_split=100,\n",
       "                       min_weight_fraction_leaf=0.0, n_estimators=200,\n",
       "                       n_jobs=None, oob_score=False, random_state=100,\n",
       "                       verbose=0, warm_start=False)"
      ]
     },
     "execution_count": 114,
     "metadata": {},
     "output_type": "execute_result"
    }
   ],
   "source": [
    "# Building a model with the best hyperparameters.\n",
    "\n",
    "rf_final_1 = RandomForestClassifier(bootstrap=True, max_depth=5, max_features=12, min_samples_leaf=100, \n",
    "                                  min_samples_split=100, n_estimators=200, random_state=100)\n",
    "\n",
    "# Fitting on the training dataset.\n",
    "\n",
    "rf_final_1.fit(X_train, y_train)"
   ]
  },
  {
   "cell_type": "code",
   "execution_count": 115,
   "metadata": {},
   "outputs": [],
   "source": [
    "# Making predictions on the test dataset.\n",
    "\n",
    "rf_final_prediction_1 = rf_final_1.predict(X_test)"
   ]
  },
  {
   "cell_type": "code",
   "execution_count": 116,
   "metadata": {},
   "outputs": [
    {
     "data": {
      "text/plain": [
       "array([[ 120,   94],\n",
       "       [   9, 4549]], dtype=int64)"
      ]
     },
     "execution_count": 116,
     "metadata": {},
     "output_type": "execute_result"
    }
   ],
   "source": [
    "# Looking at the confusion matrix.\n",
    "\n",
    "confusion4 = metrics.confusion_matrix(y_test, rf_final_prediction_1)\n",
    "confusion4"
   ]
  },
  {
   "cell_type": "code",
   "execution_count": 117,
   "metadata": {},
   "outputs": [
    {
     "name": "stdout",
     "output_type": "stream",
     "text": [
      "AUC: 77.94%\n"
     ]
    }
   ],
   "source": [
    "# Calculating the AUC.\n",
    "\n",
    "roc = metrics.roc_auc_score(y_test, rf_final_prediction_1)\n",
    "print(\"AUC: %.2f%%\" % (roc * 100.0))"
   ]
  },
  {
   "cell_type": "code",
   "execution_count": 118,
   "metadata": {},
   "outputs": [
    {
     "data": {
      "text/plain": [
       "0.998025449758666"
      ]
     },
     "execution_count": 118,
     "metadata": {},
     "output_type": "execute_result"
    }
   ],
   "source": [
    "metrics.recall_score(y_test, rf_final_prediction_1)"
   ]
  },
  {
   "cell_type": "code",
   "execution_count": 119,
   "metadata": {},
   "outputs": [
    {
     "data": {
      "text/plain": [
       "0.9784157585917854"
      ]
     },
     "execution_count": 119,
     "metadata": {},
     "output_type": "execute_result"
    }
   ],
   "source": [
    "metrics.accuracy_score(y_test, rf_final_prediction_1)"
   ]
  },
  {
   "cell_type": "code",
   "execution_count": 120,
   "metadata": {},
   "outputs": [
    {
     "data": {
      "text/plain": [
       "0.9888055646125421"
      ]
     },
     "execution_count": 120,
     "metadata": {},
     "output_type": "execute_result"
    }
   ],
   "source": [
    "metrics.f1_score(y_test, rf_final_prediction_1)"
   ]
  },
  {
   "cell_type": "code",
   "execution_count": 167,
   "metadata": {},
   "outputs": [],
   "source": [
    "# Hyperparameter tuning for KNN model.\n",
    "\n",
    "knn_params = {'leaf_size': list(range(5, 15)), 'n_neighbors': [3, 5, 7, 9], 'p': [1, 2]}\n",
    "\n",
    "knn_grid = GridSearchCV(estimator = KNeighborsClassifier(), param_grid = knn_params, cv = 3, n_jobs = -1, verbose = 1)"
   ]
  },
  {
   "cell_type": "code",
   "execution_count": 168,
   "metadata": {},
   "outputs": [
    {
     "name": "stdout",
     "output_type": "stream",
     "text": [
      "Fitting 3 folds for each of 80 candidates, totalling 240 fits\n"
     ]
    },
    {
     "name": "stderr",
     "output_type": "stream",
     "text": [
      "[Parallel(n_jobs=-1)]: Using backend LokyBackend with 8 concurrent workers.\n",
      "[Parallel(n_jobs=-1)]: Done  34 tasks      | elapsed:   35.5s\n",
      "[Parallel(n_jobs=-1)]: Done 184 tasks      | elapsed:  1.4min\n",
      "[Parallel(n_jobs=-1)]: Done 240 out of 240 | elapsed:  1.7min finished\n"
     ]
    },
    {
     "data": {
      "text/plain": [
       "GridSearchCV(cv=3, error_score=nan,\n",
       "             estimator=KNeighborsClassifier(algorithm='auto', leaf_size=30,\n",
       "                                            metric='minkowski',\n",
       "                                            metric_params=None, n_jobs=None,\n",
       "                                            n_neighbors=5, p=2,\n",
       "                                            weights='uniform'),\n",
       "             iid='deprecated', n_jobs=-1,\n",
       "             param_grid={'leaf_size': [5, 6, 7, 8, 9, 10, 11, 12, 13, 14],\n",
       "                         'n_neighbors': [3, 5, 7, 9], 'p': [1, 2]},\n",
       "             pre_dispatch='2*n_jobs', refit=True, return_train_score=False,\n",
       "             scoring=None, verbose=1)"
      ]
     },
     "execution_count": 168,
     "metadata": {},
     "output_type": "execute_result"
    }
   ],
   "source": [
    "# Fitting the Grid Search to the training dataset.\n",
    "\n",
    "knn_grid.fit(X_train, y_train)"
   ]
  },
  {
   "cell_type": "code",
   "execution_count": 169,
   "metadata": {},
   "outputs": [
    {
     "data": {
      "text/plain": [
       "{'leaf_size': 5, 'n_neighbors': 5, 'p': 1}"
      ]
     },
     "execution_count": 169,
     "metadata": {},
     "output_type": "execute_result"
    }
   ],
   "source": [
    "knn_grid.best_params_"
   ]
  },
  {
   "cell_type": "code",
   "execution_count": 170,
   "metadata": {},
   "outputs": [
    {
     "data": {
      "text/plain": [
       "0.958761337141315"
      ]
     },
     "execution_count": 170,
     "metadata": {},
     "output_type": "execute_result"
    }
   ],
   "source": [
    "knn_grid.best_score_"
   ]
  },
  {
   "cell_type": "code",
   "execution_count": 171,
   "metadata": {},
   "outputs": [
    {
     "data": {
      "text/plain": [
       "KNeighborsClassifier(algorithm='auto', leaf_size=5, metric='minkowski',\n",
       "                     metric_params=None, n_jobs=None, n_neighbors=5, p=1,\n",
       "                     weights='uniform')"
      ]
     },
     "execution_count": 171,
     "metadata": {},
     "output_type": "execute_result"
    }
   ],
   "source": [
    "# Building a model with the best hyperparameters.\n",
    "\n",
    "knn_imb = KNeighborsClassifier(leaf_size = 5, n_neighbors = 5, p = 1)\n",
    "\n",
    "# Fitting on the training dataset.\n",
    "\n",
    "knn_imb.fit(X_train, y_train)"
   ]
  },
  {
   "cell_type": "code",
   "execution_count": 172,
   "metadata": {},
   "outputs": [],
   "source": [
    "y_pred_knn=knn_imb.predict(X_test)"
   ]
  },
  {
   "cell_type": "code",
   "execution_count": 173,
   "metadata": {},
   "outputs": [
    {
     "data": {
      "text/plain": [
       "0.9978060552874067"
      ]
     },
     "execution_count": 173,
     "metadata": {},
     "output_type": "execute_result"
    }
   ],
   "source": [
    "metrics.recall_score(y_test, y_pred_knn)"
   ]
  },
  {
   "cell_type": "code",
   "execution_count": 174,
   "metadata": {},
   "outputs": [
    {
     "data": {
      "text/plain": [
       "array([[  34,  180],\n",
       "       [  10, 4548]], dtype=int64)"
      ]
     },
     "execution_count": 174,
     "metadata": {},
     "output_type": "execute_result"
    }
   ],
   "source": [
    "metrics.confusion_matrix(y_test, y_pred_knn)"
   ]
  },
  {
   "cell_type": "code",
   "execution_count": 178,
   "metadata": {},
   "outputs": [],
   "source": [
    "# Specifying the range of hyperparameters.\n",
    "\n",
    "param_grid = {'learning_rate': [0.2, 0.5], 'subsample': [0.3, 0.6, 0.9], 'max_depth': [3, 4, 5, 6], 'n_estimators': [100, 200, 300]}          \n",
    "\n",
    "# Specifying the model.\n",
    "\n",
    "xgb_tune = XGBClassifier(random_state=100)\n",
    "\n",
    "# Setting up GridSearchCV().\n",
    "\n",
    "grid_search = GridSearchCV(estimator = xgb_tune, param_grid = param_grid, scoring = 'roc_auc', cv = 3, verbose = 1,\n",
    "                        return_train_score = True, n_jobs = -1) "
   ]
  },
  {
   "cell_type": "code",
   "execution_count": 179,
   "metadata": {},
   "outputs": [
    {
     "name": "stdout",
     "output_type": "stream",
     "text": [
      "Fitting 3 folds for each of 72 candidates, totalling 216 fits\n"
     ]
    },
    {
     "name": "stderr",
     "output_type": "stream",
     "text": [
      "[Parallel(n_jobs=-1)]: Using backend LokyBackend with 8 concurrent workers.\n",
      "[Parallel(n_jobs=-1)]: Done  34 tasks      | elapsed:  1.5min\n",
      "[Parallel(n_jobs=-1)]: Done 184 tasks      | elapsed:  5.8min\n",
      "[Parallel(n_jobs=-1)]: Done 216 out of 216 | elapsed:  6.8min finished\n"
     ]
    },
    {
     "data": {
      "text/plain": [
       "GridSearchCV(cv=3, error_score=nan,\n",
       "             estimator=XGBClassifier(base_score=0.5, booster='gbtree',\n",
       "                                     colsample_bylevel=1, colsample_bynode=1,\n",
       "                                     colsample_bytree=1, gamma=0,\n",
       "                                     learning_rate=0.1, max_delta_step=0,\n",
       "                                     max_depth=3, min_child_weight=1,\n",
       "                                     missing=None, n_estimators=100, n_jobs=1,\n",
       "                                     nthread=None, objective='binary:logistic',\n",
       "                                     random_state=100, reg_alpha=0,\n",
       "                                     reg_lambda=1, scale_pos_weight=1,\n",
       "                                     seed=None, silent=None, subsample=1,\n",
       "                                     verbosity=1),\n",
       "             iid='deprecated', n_jobs=-1,\n",
       "             param_grid={'learning_rate': [0.2, 0.5], 'max_depth': [3, 4, 5, 6],\n",
       "                         'n_estimators': [100, 200, 300],\n",
       "                         'subsample': [0.3, 0.6, 0.9]},\n",
       "             pre_dispatch='2*n_jobs', refit=True, return_train_score=True,\n",
       "             scoring='roc_auc', verbose=1)"
      ]
     },
     "execution_count": 179,
     "metadata": {},
     "output_type": "execute_result"
    }
   ],
   "source": [
    "grid_search.fit(X_train, y_train)"
   ]
  },
  {
   "cell_type": "code",
   "execution_count": 180,
   "metadata": {},
   "outputs": [
    {
     "name": "stdout",
     "output_type": "stream",
     "text": [
      "We can get accuracy of 0.9998 by using {'learning_rate': 0.5, 'max_depth': 5, 'n_estimators': 200, 'subsample': 0.6}\n"
     ]
    }
   ],
   "source": [
    "# Getting the optimal accuracy score and hyperparameters.\n",
    "\n",
    "print('We can get accuracy of', grid_search.best_score_.round(4), 'by using', grid_search.best_params_)"
   ]
  },
  {
   "cell_type": "code",
   "execution_count": 181,
   "metadata": {},
   "outputs": [
    {
     "data": {
      "text/plain": [
       "XGBClassifier(base_score=0.5, booster='gbtree', colsample_bylevel=1,\n",
       "              colsample_bynode=1, colsample_bytree=1, gamma=0,\n",
       "              learning_rate=0.5, max_delta_step=0, max_depth=5,\n",
       "              min_child_weight=1, missing=None, n_estimators=200, n_jobs=1,\n",
       "              nthread=None, objective='binary:logistic', random_state=0,\n",
       "              reg_alpha=0, reg_lambda=1, scale_pos_weight=1, seed=None,\n",
       "              silent=None, subsample=0.6, verbosity=1)"
      ]
     },
     "execution_count": 181,
     "metadata": {},
     "output_type": "execute_result"
    }
   ],
   "source": [
    "# Building a model with the best hyperparameters.\n",
    "\n",
    "xgb_mdl = XGBClassifier(learning_rate = 0.5, max_depth = 5, n_estimators = 200, subsample = 0.6)\n",
    "\n",
    "# Fitting on the training dataset.\n",
    "\n",
    "xgb_mdl.fit(X_train, y_train)"
   ]
  },
  {
   "cell_type": "code",
   "execution_count": 183,
   "metadata": {},
   "outputs": [
    {
     "data": {
      "text/plain": [
       "array([1, 1, 1, 1, 1, 1, 0, 1, 1, 1], dtype=int64)"
      ]
     },
     "execution_count": 183,
     "metadata": {},
     "output_type": "execute_result"
    }
   ],
   "source": [
    "y_pred_xgb=xgb_mdl.predict(X_test)\n",
    "y_pred_xgb[:10]"
   ]
  },
  {
   "cell_type": "code",
   "execution_count": 184,
   "metadata": {},
   "outputs": [
    {
     "data": {
      "text/plain": [
       "0.9991224221149627"
      ]
     },
     "execution_count": 184,
     "metadata": {},
     "output_type": "execute_result"
    }
   ],
   "source": [
    "metrics.recall_score(y_test, y_pred_xgb)"
   ]
  },
  {
   "cell_type": "code",
   "execution_count": null,
   "metadata": {},
   "outputs": [],
   "source": []
  },
  {
   "cell_type": "code",
   "execution_count": null,
   "metadata": {},
   "outputs": [],
   "source": []
  },
  {
   "cell_type": "code",
   "execution_count": null,
   "metadata": {},
   "outputs": [],
   "source": []
  },
  {
   "cell_type": "code",
   "execution_count": null,
   "metadata": {},
   "outputs": [],
   "source": []
  },
  {
   "cell_type": "code",
   "execution_count": 121,
   "metadata": {},
   "outputs": [],
   "source": [
    "from imblearn.over_sampling import SMOTE\n",
    "X_train_smote, y_train_smote = SMOTE(random_state = 27).fit_resample(X_train, y_train)"
   ]
  },
  {
   "cell_type": "code",
   "execution_count": 123,
   "metadata": {},
   "outputs": [
    {
     "name": "stdout",
     "output_type": "stream",
     "text": [
      "(36460, 15)\n",
      "(4772, 15)\n",
      "(36460,)\n",
      "(4772,)\n"
     ]
    }
   ],
   "source": [
    "# Looking at the dimensions of the train and test sets.\n",
    "\n",
    "print(X_train_smote.shape)\n",
    "print(X_test.shape)\n",
    "print(y_train_smote.shape)\n",
    "print(y_test.shape)"
   ]
  },
  {
   "cell_type": "code",
   "execution_count": 124,
   "metadata": {},
   "outputs": [
    {
     "name": "stdout",
     "output_type": "stream",
     "text": [
      "Fitting 3 folds for each of 108 candidates, totalling 324 fits\n"
     ]
    },
    {
     "name": "stderr",
     "output_type": "stream",
     "text": [
      "[Parallel(n_jobs=-1)]: Using backend LokyBackend with 8 concurrent workers.\n",
      "[Parallel(n_jobs=-1)]: Done  34 tasks      | elapsed:  2.0min\n",
      "[Parallel(n_jobs=-1)]: Done 184 tasks      | elapsed: 11.8min\n",
      "[Parallel(n_jobs=-1)]: Done 324 out of 324 | elapsed: 21.1min finished\n"
     ]
    },
    {
     "data": {
      "text/plain": [
       "GridSearchCV(cv=3, error_score=nan,\n",
       "             estimator=RandomForestClassifier(bootstrap=True, ccp_alpha=0.0,\n",
       "                                              class_weight=None,\n",
       "                                              criterion='gini', max_depth=None,\n",
       "                                              max_features='auto',\n",
       "                                              max_leaf_nodes=None,\n",
       "                                              max_samples=None,\n",
       "                                              min_impurity_decrease=0.0,\n",
       "                                              min_impurity_split=None,\n",
       "                                              min_samples_leaf=1,\n",
       "                                              min_samples_split=2,\n",
       "                                              min_weight_fraction_leaf=0.0,\n",
       "                                              n_estimators=100, n_jobs=None,\n",
       "                                              oob_score=False, random_state=100,\n",
       "                                              verbose=0, warm_start=False),\n",
       "             iid='deprecated', n_jobs=-1,\n",
       "             param_grid={'max_depth': [3, 4, 5], 'max_features': [10, 12, 14],\n",
       "                         'min_samples_leaf': range(100, 400, 200),\n",
       "                         'min_samples_split': range(100, 400, 200),\n",
       "                         'n_estimators': [100, 200, 300]},\n",
       "             pre_dispatch='2*n_jobs', refit=True, return_train_score=False,\n",
       "             scoring=None, verbose=1)"
      ]
     },
     "execution_count": 124,
     "metadata": {},
     "output_type": "execute_result"
    }
   ],
   "source": [
    "grid_search.fit(X_train_smote,y_train_smote)"
   ]
  },
  {
   "cell_type": "code",
   "execution_count": 125,
   "metadata": {},
   "outputs": [
    {
     "name": "stdout",
     "output_type": "stream",
     "text": [
      "We can get accuracy of 0.9841 by using {'max_depth': 5, 'max_features': 14, 'min_samples_leaf': 100, 'min_samples_split': 100, 'n_estimators': 100}\n"
     ]
    }
   ],
   "source": [
    "# Getting the optimal accuracy score and hyperparameters.\n",
    "\n",
    "print('We can get accuracy of', grid_search.best_score_.round(4), 'by using', grid_search.best_params_)"
   ]
  },
  {
   "cell_type": "code",
   "execution_count": 126,
   "metadata": {},
   "outputs": [
    {
     "data": {
      "text/plain": [
       "RandomForestClassifier(bootstrap=True, ccp_alpha=0.0, class_weight=None,\n",
       "                       criterion='gini', max_depth=5, max_features=14,\n",
       "                       max_leaf_nodes=None, max_samples=None,\n",
       "                       min_impurity_decrease=0.0, min_impurity_split=None,\n",
       "                       min_samples_leaf=100, min_samples_split=100,\n",
       "                       min_weight_fraction_leaf=0.0, n_estimators=100,\n",
       "                       n_jobs=None, oob_score=False, random_state=100,\n",
       "                       verbose=0, warm_start=False)"
      ]
     },
     "execution_count": 126,
     "metadata": {},
     "output_type": "execute_result"
    }
   ],
   "source": [
    "# Building a model with the best hyperparameters.\n",
    "\n",
    "rf_smt_final = RandomForestClassifier(bootstrap=True, max_depth=5, max_features=14, min_samples_leaf=100, \n",
    "                                  min_samples_split=100, n_estimators=100, random_state=100)\n",
    "\n",
    "# Fitting on the training dataset.\n",
    "\n",
    "rf_smt_final.fit(X_train_smote,y_train_smote)"
   ]
  },
  {
   "cell_type": "code",
   "execution_count": 127,
   "metadata": {},
   "outputs": [
    {
     "data": {
      "text/plain": [
       "array([1, 1, 1, 1, 1, 1, 0, 1, 1, 0], dtype=int64)"
      ]
     },
     "execution_count": 127,
     "metadata": {},
     "output_type": "execute_result"
    }
   ],
   "source": [
    "y_pred_rndm_smt=rf_smt_final.predict(X_test)\n",
    "y_pred_rndm_smt[:10]"
   ]
  },
  {
   "cell_type": "code",
   "execution_count": 128,
   "metadata": {},
   "outputs": [
    {
     "data": {
      "text/plain": [
       "array([[ 213,    1],\n",
       "       [ 129, 4429]], dtype=int64)"
      ]
     },
     "execution_count": 128,
     "metadata": {},
     "output_type": "execute_result"
    }
   ],
   "source": [
    "# Looking at the confusion matrix.\n",
    "\n",
    "confusion4 = metrics.confusion_matrix(y_test, y_pred_rndm_smt)\n",
    "confusion4"
   ]
  },
  {
   "cell_type": "code",
   "execution_count": 129,
   "metadata": {},
   "outputs": [
    {
     "data": {
      "text/plain": [
       "0.9716981132075472"
      ]
     },
     "execution_count": 129,
     "metadata": {},
     "output_type": "execute_result"
    }
   ],
   "source": [
    "metrics.recall_score(y_test, y_pred_rndm_smt)"
   ]
  },
  {
   "cell_type": "code",
   "execution_count": 131,
   "metadata": {},
   "outputs": [],
   "source": [
    "# Hyperparameter tuning for Logistic Regression model.\n",
    "\n",
    "log_reg_params = {'penalty': ['l1', 'l2'], 'C': [0.001, 0.01, 0.1, 1, 10, 100, 1000]}\n",
    "\n",
    "log_smt_grid = GridSearchCV(estimator = LogisticRegression(), param_grid = log_reg_params, cv = 3, n_jobs = -1, verbose = 1)"
   ]
  },
  {
   "cell_type": "code",
   "execution_count": 134,
   "metadata": {},
   "outputs": [
    {
     "name": "stdout",
     "output_type": "stream",
     "text": [
      "Fitting 3 folds for each of 14 candidates, totalling 42 fits\n"
     ]
    },
    {
     "name": "stderr",
     "output_type": "stream",
     "text": [
      "[Parallel(n_jobs=-1)]: Using backend LokyBackend with 8 concurrent workers.\n",
      "[Parallel(n_jobs=-1)]: Done  42 out of  42 | elapsed:   20.5s finished\n"
     ]
    },
    {
     "data": {
      "text/plain": [
       "GridSearchCV(cv=3, error_score=nan,\n",
       "             estimator=LogisticRegression(C=1.0, class_weight=None, dual=False,\n",
       "                                          fit_intercept=True,\n",
       "                                          intercept_scaling=1, l1_ratio=None,\n",
       "                                          max_iter=100, multi_class='auto',\n",
       "                                          n_jobs=None, penalty='l2',\n",
       "                                          random_state=None, solver='lbfgs',\n",
       "                                          tol=0.0001, verbose=0,\n",
       "                                          warm_start=False),\n",
       "             iid='deprecated', n_jobs=-1,\n",
       "             param_grid={'C': [0.001, 0.01, 0.1, 1, 10, 100, 1000],\n",
       "                         'penalty': ['l1', 'l2']},\n",
       "             pre_dispatch='2*n_jobs', refit=True, return_train_score=False,\n",
       "             scoring=None, verbose=1)"
      ]
     },
     "execution_count": 134,
     "metadata": {},
     "output_type": "execute_result"
    }
   ],
   "source": [
    "log_smt_grid.fit(X_train_smote,y_train_smote)"
   ]
  },
  {
   "cell_type": "code",
   "execution_count": 136,
   "metadata": {},
   "outputs": [
    {
     "data": {
      "text/plain": [
       "{'C': 1000, 'penalty': 'l2'}"
      ]
     },
     "execution_count": 136,
     "metadata": {},
     "output_type": "execute_result"
    }
   ],
   "source": [
    "log_smt_grid.best_params_"
   ]
  },
  {
   "cell_type": "code",
   "execution_count": 137,
   "metadata": {},
   "outputs": [
    {
     "data": {
      "text/plain": [
       "LogisticRegression(C=1000, class_weight=None, dual=False, fit_intercept=True,\n",
       "                   intercept_scaling=1, l1_ratio=None, max_iter=100,\n",
       "                   multi_class='auto', n_jobs=None, penalty='l2',\n",
       "                   random_state=None, solver='lbfgs', tol=0.0001, verbose=0,\n",
       "                   warm_start=False)"
      ]
     },
     "execution_count": 137,
     "metadata": {},
     "output_type": "execute_result"
    }
   ],
   "source": [
    "# Building a model with the best hyperparameters.\n",
    "\n",
    "log_reg_smt = LogisticRegression(C = 1000, penalty = 'l2')\n",
    "\n",
    "# Fitting on the training dataset.\n",
    "\n",
    "log_reg_smt.fit(X_train_smote, y_train_smote)"
   ]
  },
  {
   "cell_type": "code",
   "execution_count": 138,
   "metadata": {},
   "outputs": [
    {
     "data": {
      "text/plain": [
       "array([1, 0, 1, 0, 1, 1, 1, 1, 1, 0], dtype=int64)"
      ]
     },
     "execution_count": 138,
     "metadata": {},
     "output_type": "execute_result"
    }
   ],
   "source": [
    "y_pred_log_smt=log_reg_smt.predict(X_test)\n",
    "y_pred_log_smt[:10]"
   ]
  },
  {
   "cell_type": "code",
   "execution_count": 139,
   "metadata": {},
   "outputs": [
    {
     "data": {
      "text/plain": [
       "array([[ 172,   42],\n",
       "       [ 632, 3926]], dtype=int64)"
      ]
     },
     "execution_count": 139,
     "metadata": {},
     "output_type": "execute_result"
    }
   ],
   "source": [
    "# Looking at the confusion matrix.\n",
    "\n",
    "confusion5 = metrics.confusion_matrix(y_test, y_pred_log_smt)\n",
    "confusion5"
   ]
  },
  {
   "cell_type": "code",
   "execution_count": 148,
   "metadata": {},
   "outputs": [
    {
     "data": {
      "text/html": [
       "<div>\n",
       "<style scoped>\n",
       "    .dataframe tbody tr th:only-of-type {\n",
       "        vertical-align: middle;\n",
       "    }\n",
       "\n",
       "    .dataframe tbody tr th {\n",
       "        vertical-align: top;\n",
       "    }\n",
       "\n",
       "    .dataframe thead th {\n",
       "        text-align: right;\n",
       "    }\n",
       "</style>\n",
       "<table border=\"1\" class=\"dataframe\">\n",
       "  <thead>\n",
       "    <tr style=\"text-align: right;\">\n",
       "      <th></th>\n",
       "      <th>Unnamed: 0</th>\n",
       "      <th>X_1</th>\n",
       "      <th>X_2</th>\n",
       "      <th>X_3</th>\n",
       "      <th>X_4</th>\n",
       "      <th>X_5</th>\n",
       "      <th>X_6</th>\n",
       "      <th>X_7</th>\n",
       "      <th>X_8</th>\n",
       "      <th>X_9</th>\n",
       "      <th>X_10</th>\n",
       "      <th>X_11</th>\n",
       "      <th>X_12</th>\n",
       "      <th>X_13</th>\n",
       "      <th>X_14</th>\n",
       "      <th>X_15</th>\n",
       "      <th>INCIDENT_ID</th>\n",
       "    </tr>\n",
       "  </thead>\n",
       "  <tbody>\n",
       "    <tr>\n",
       "      <th>0</th>\n",
       "      <td>0</td>\n",
       "      <td>5.015082</td>\n",
       "      <td>0.346549</td>\n",
       "      <td>0.689163</td>\n",
       "      <td>0.913022</td>\n",
       "      <td>0.280919</td>\n",
       "      <td>-0.019072</td>\n",
       "      <td>-0.223796</td>\n",
       "      <td>5.012828</td>\n",
       "      <td>5.017719</td>\n",
       "      <td>5.01538</td>\n",
       "      <td>-0.353946</td>\n",
       "      <td>5.017489</td>\n",
       "      <td>5.014097</td>\n",
       "      <td>1.076998</td>\n",
       "      <td>5.008943</td>\n",
       "      <td>CR_195453</td>\n",
       "    </tr>\n",
       "    <tr>\n",
       "      <th>1</th>\n",
       "      <td>1</td>\n",
       "      <td>5.015082</td>\n",
       "      <td>1.265886</td>\n",
       "      <td>1.284127</td>\n",
       "      <td>-1.104130</td>\n",
       "      <td>0.280919</td>\n",
       "      <td>0.205598</td>\n",
       "      <td>-1.002121</td>\n",
       "      <td>5.030752</td>\n",
       "      <td>5.022523</td>\n",
       "      <td>5.01538</td>\n",
       "      <td>1.171216</td>\n",
       "      <td>5.009877</td>\n",
       "      <td>4.999492</td>\n",
       "      <td>-0.994975</td>\n",
       "      <td>5.017740</td>\n",
       "      <td>CR_103520</td>\n",
       "    </tr>\n",
       "    <tr>\n",
       "      <th>2</th>\n",
       "      <td>2</td>\n",
       "      <td>5.015082</td>\n",
       "      <td>0.609216</td>\n",
       "      <td>0.556949</td>\n",
       "      <td>-0.431746</td>\n",
       "      <td>1.299606</td>\n",
       "      <td>-0.917751</td>\n",
       "      <td>0.554530</td>\n",
       "      <td>5.026301</td>\n",
       "      <td>4.993347</td>\n",
       "      <td>5.01538</td>\n",
       "      <td>1.171216</td>\n",
       "      <td>5.017489</td>\n",
       "      <td>5.014097</td>\n",
       "      <td>-1.662610</td>\n",
       "      <td>5.017740</td>\n",
       "      <td>CR_196089</td>\n",
       "    </tr>\n",
       "    <tr>\n",
       "      <th>3</th>\n",
       "      <td>3</td>\n",
       "      <td>5.047454</td>\n",
       "      <td>-1.426459</td>\n",
       "      <td>-1.492370</td>\n",
       "      <td>-0.431746</td>\n",
       "      <td>1.299606</td>\n",
       "      <td>0.654937</td>\n",
       "      <td>0.813972</td>\n",
       "      <td>5.012828</td>\n",
       "      <td>5.017719</td>\n",
       "      <td>5.01538</td>\n",
       "      <td>-0.353946</td>\n",
       "      <td>5.017489</td>\n",
       "      <td>5.023717</td>\n",
       "      <td>0.340297</td>\n",
       "      <td>5.017740</td>\n",
       "      <td>CR_112195</td>\n",
       "    </tr>\n",
       "    <tr>\n",
       "      <th>4</th>\n",
       "      <td>4</td>\n",
       "      <td>5.015082</td>\n",
       "      <td>-1.163791</td>\n",
       "      <td>-1.095728</td>\n",
       "      <td>0.913022</td>\n",
       "      <td>0.280919</td>\n",
       "      <td>-0.917751</td>\n",
       "      <td>0.554530</td>\n",
       "      <td>5.017340</td>\n",
       "      <td>5.017719</td>\n",
       "      <td>5.01538</td>\n",
       "      <td>-0.353946</td>\n",
       "      <td>5.009877</td>\n",
       "      <td>5.023717</td>\n",
       "      <td>0.478428</td>\n",
       "      <td>5.024880</td>\n",
       "      <td>CR_149832</td>\n",
       "    </tr>\n",
       "  </tbody>\n",
       "</table>\n",
       "</div>"
      ],
      "text/plain": [
       "   Unnamed: 0       X_1       X_2       X_3       X_4       X_5       X_6       X_7       X_8       X_9     X_10      X_11      X_12      X_13      X_14      X_15 INCIDENT_ID\n",
       "0           0  5.015082  0.346549  0.689163  0.913022  0.280919 -0.019072 -0.223796  5.012828  5.017719  5.01538 -0.353946  5.017489  5.014097  1.076998  5.008943   CR_195453\n",
       "1           1  5.015082  1.265886  1.284127 -1.104130  0.280919  0.205598 -1.002121  5.030752  5.022523  5.01538  1.171216  5.009877  4.999492 -0.994975  5.017740   CR_103520\n",
       "2           2  5.015082  0.609216  0.556949 -0.431746  1.299606 -0.917751  0.554530  5.026301  4.993347  5.01538  1.171216  5.017489  5.014097 -1.662610  5.017740   CR_196089\n",
       "3           3  5.047454 -1.426459 -1.492370 -0.431746  1.299606  0.654937  0.813972  5.012828  5.017719  5.01538 -0.353946  5.017489  5.023717  0.340297  5.017740   CR_112195\n",
       "4           4  5.015082 -1.163791 -1.095728  0.913022  0.280919 -0.917751  0.554530  5.017340  5.017719  5.01538 -0.353946  5.009877  5.023717  0.478428  5.024880   CR_149832"
      ]
     },
     "execution_count": 148,
     "metadata": {},
     "output_type": "execute_result"
    }
   ],
   "source": [
    "df_test=pd.read_csv('test_scld.csv')\n",
    "df_test.head()"
   ]
  },
  {
   "cell_type": "code",
   "execution_count": 149,
   "metadata": {},
   "outputs": [
    {
     "data": {
      "text/plain": [
       "Index(['Unnamed: 0', 'X_1', 'X_2', 'X_3', 'X_4', 'X_5', 'X_6', 'X_7', 'X_8', 'X_9', 'X_10', 'X_11', 'X_12', 'X_13', 'X_14', 'X_15', 'INCIDENT_ID'], dtype='object')"
      ]
     },
     "execution_count": 149,
     "metadata": {},
     "output_type": "execute_result"
    }
   ],
   "source": [
    "df_test.columns"
   ]
  },
  {
   "cell_type": "code",
   "execution_count": 162,
   "metadata": {},
   "outputs": [
    {
     "data": {
      "text/html": [
       "<div>\n",
       "<style scoped>\n",
       "    .dataframe tbody tr th:only-of-type {\n",
       "        vertical-align: middle;\n",
       "    }\n",
       "\n",
       "    .dataframe tbody tr th {\n",
       "        vertical-align: top;\n",
       "    }\n",
       "\n",
       "    .dataframe thead th {\n",
       "        text-align: right;\n",
       "    }\n",
       "</style>\n",
       "<table border=\"1\" class=\"dataframe\">\n",
       "  <thead>\n",
       "    <tr style=\"text-align: right;\">\n",
       "      <th></th>\n",
       "      <th>X_1</th>\n",
       "      <th>X_2</th>\n",
       "      <th>X_3</th>\n",
       "      <th>X_4</th>\n",
       "      <th>X_5</th>\n",
       "      <th>X_6</th>\n",
       "      <th>X_7</th>\n",
       "      <th>X_8</th>\n",
       "      <th>X_9</th>\n",
       "      <th>X_10</th>\n",
       "      <th>X_11</th>\n",
       "      <th>X_12</th>\n",
       "      <th>X_13</th>\n",
       "      <th>X_14</th>\n",
       "      <th>X_15</th>\n",
       "    </tr>\n",
       "  </thead>\n",
       "  <tbody>\n",
       "    <tr>\n",
       "      <th>0</th>\n",
       "      <td>5.015082</td>\n",
       "      <td>0.346549</td>\n",
       "      <td>0.689163</td>\n",
       "      <td>0.913022</td>\n",
       "      <td>0.280919</td>\n",
       "      <td>-0.019072</td>\n",
       "      <td>-0.223796</td>\n",
       "      <td>5.012828</td>\n",
       "      <td>5.017719</td>\n",
       "      <td>5.01538</td>\n",
       "      <td>-0.353946</td>\n",
       "      <td>5.017489</td>\n",
       "      <td>5.014097</td>\n",
       "      <td>1.076998</td>\n",
       "      <td>5.008943</td>\n",
       "    </tr>\n",
       "    <tr>\n",
       "      <th>1</th>\n",
       "      <td>5.015082</td>\n",
       "      <td>1.265886</td>\n",
       "      <td>1.284127</td>\n",
       "      <td>-1.104130</td>\n",
       "      <td>0.280919</td>\n",
       "      <td>0.205598</td>\n",
       "      <td>-1.002121</td>\n",
       "      <td>5.030752</td>\n",
       "      <td>5.022523</td>\n",
       "      <td>5.01538</td>\n",
       "      <td>1.171216</td>\n",
       "      <td>5.009877</td>\n",
       "      <td>4.999492</td>\n",
       "      <td>-0.994975</td>\n",
       "      <td>5.017740</td>\n",
       "    </tr>\n",
       "    <tr>\n",
       "      <th>2</th>\n",
       "      <td>5.015082</td>\n",
       "      <td>0.609216</td>\n",
       "      <td>0.556949</td>\n",
       "      <td>-0.431746</td>\n",
       "      <td>1.299606</td>\n",
       "      <td>-0.917751</td>\n",
       "      <td>0.554530</td>\n",
       "      <td>5.026301</td>\n",
       "      <td>4.993347</td>\n",
       "      <td>5.01538</td>\n",
       "      <td>1.171216</td>\n",
       "      <td>5.017489</td>\n",
       "      <td>5.014097</td>\n",
       "      <td>-1.662610</td>\n",
       "      <td>5.017740</td>\n",
       "    </tr>\n",
       "    <tr>\n",
       "      <th>3</th>\n",
       "      <td>5.047454</td>\n",
       "      <td>-1.426459</td>\n",
       "      <td>-1.492370</td>\n",
       "      <td>-0.431746</td>\n",
       "      <td>1.299606</td>\n",
       "      <td>0.654937</td>\n",
       "      <td>0.813972</td>\n",
       "      <td>5.012828</td>\n",
       "      <td>5.017719</td>\n",
       "      <td>5.01538</td>\n",
       "      <td>-0.353946</td>\n",
       "      <td>5.017489</td>\n",
       "      <td>5.023717</td>\n",
       "      <td>0.340297</td>\n",
       "      <td>5.017740</td>\n",
       "    </tr>\n",
       "    <tr>\n",
       "      <th>4</th>\n",
       "      <td>5.015082</td>\n",
       "      <td>-1.163791</td>\n",
       "      <td>-1.095728</td>\n",
       "      <td>0.913022</td>\n",
       "      <td>0.280919</td>\n",
       "      <td>-0.917751</td>\n",
       "      <td>0.554530</td>\n",
       "      <td>5.017340</td>\n",
       "      <td>5.017719</td>\n",
       "      <td>5.01538</td>\n",
       "      <td>-0.353946</td>\n",
       "      <td>5.009877</td>\n",
       "      <td>5.023717</td>\n",
       "      <td>0.478428</td>\n",
       "      <td>5.024880</td>\n",
       "    </tr>\n",
       "  </tbody>\n",
       "</table>\n",
       "</div>"
      ],
      "text/plain": [
       "        X_1       X_2       X_3       X_4       X_5       X_6       X_7       X_8       X_9     X_10      X_11      X_12      X_13      X_14      X_15\n",
       "0  5.015082  0.346549  0.689163  0.913022  0.280919 -0.019072 -0.223796  5.012828  5.017719  5.01538 -0.353946  5.017489  5.014097  1.076998  5.008943\n",
       "1  5.015082  1.265886  1.284127 -1.104130  0.280919  0.205598 -1.002121  5.030752  5.022523  5.01538  1.171216  5.009877  4.999492 -0.994975  5.017740\n",
       "2  5.015082  0.609216  0.556949 -0.431746  1.299606 -0.917751  0.554530  5.026301  4.993347  5.01538  1.171216  5.017489  5.014097 -1.662610  5.017740\n",
       "3  5.047454 -1.426459 -1.492370 -0.431746  1.299606  0.654937  0.813972  5.012828  5.017719  5.01538 -0.353946  5.017489  5.023717  0.340297  5.017740\n",
       "4  5.015082 -1.163791 -1.095728  0.913022  0.280919 -0.917751  0.554530  5.017340  5.017719  5.01538 -0.353946  5.009877  5.023717  0.478428  5.024880"
      ]
     },
     "execution_count": 162,
     "metadata": {},
     "output_type": "execute_result"
    }
   ],
   "source": [
    "X=df_test.drop(['Unnamed: 0','INCIDENT_ID'],axis=1)\n",
    "X.head()"
   ]
  },
  {
   "cell_type": "code",
   "execution_count": 144,
   "metadata": {},
   "outputs": [
    {
     "data": {
      "text/plain": [
       "array([1, 1, 1, 1, 1, 1, 1, 1, 1, 1], dtype=int64)"
      ]
     },
     "execution_count": 144,
     "metadata": {},
     "output_type": "execute_result"
    }
   ],
   "source": [
    "y_sub_log=log_reg_final_1.predict(X)\n",
    "y_sub_log[:10]"
   ]
  },
  {
   "cell_type": "code",
   "execution_count": 145,
   "metadata": {},
   "outputs": [
    {
     "data": {
      "text/plain": [
       "array([1], dtype=int64)"
      ]
     },
     "execution_count": 145,
     "metadata": {},
     "output_type": "execute_result"
    }
   ],
   "source": [
    "np.unique(y_sub_log)"
   ]
  },
  {
   "cell_type": "code",
   "execution_count": 146,
   "metadata": {},
   "outputs": [
    {
     "data": {
      "text/plain": [
       "array([1, 1, 1, 1, 1, 1, 1, 1, 1, 1], dtype=int64)"
      ]
     },
     "execution_count": 146,
     "metadata": {},
     "output_type": "execute_result"
    }
   ],
   "source": [
    "y_sub_rf=rf_final_1.predict(X)\n",
    "y_sub_rf[:10]"
   ]
  },
  {
   "cell_type": "code",
   "execution_count": 147,
   "metadata": {},
   "outputs": [
    {
     "data": {
      "text/plain": [
       "array([0, 1], dtype=int64)"
      ]
     },
     "execution_count": 147,
     "metadata": {},
     "output_type": "execute_result"
    }
   ],
   "source": [
    "np.unique(y_sub_rf)"
   ]
  },
  {
   "cell_type": "code",
   "execution_count": 158,
   "metadata": {},
   "outputs": [],
   "source": [
    "df_sub=pd.DataFrame({'INCIDENT_ID':X['INCIDENT_ID'],'MULTIPLE_OFFENSE':y_sub_log})"
   ]
  },
  {
   "cell_type": "code",
   "execution_count": 159,
   "metadata": {},
   "outputs": [
    {
     "data": {
      "text/html": [
       "<div>\n",
       "<style scoped>\n",
       "    .dataframe tbody tr th:only-of-type {\n",
       "        vertical-align: middle;\n",
       "    }\n",
       "\n",
       "    .dataframe tbody tr th {\n",
       "        vertical-align: top;\n",
       "    }\n",
       "\n",
       "    .dataframe thead th {\n",
       "        text-align: right;\n",
       "    }\n",
       "</style>\n",
       "<table border=\"1\" class=\"dataframe\">\n",
       "  <thead>\n",
       "    <tr style=\"text-align: right;\">\n",
       "      <th></th>\n",
       "      <th>INCIDENT_ID</th>\n",
       "      <th>MULTIPLE_OFFENSE</th>\n",
       "    </tr>\n",
       "  </thead>\n",
       "  <tbody>\n",
       "    <tr>\n",
       "      <th>0</th>\n",
       "      <td>CR_195453</td>\n",
       "      <td>1</td>\n",
       "    </tr>\n",
       "    <tr>\n",
       "      <th>1</th>\n",
       "      <td>CR_103520</td>\n",
       "      <td>1</td>\n",
       "    </tr>\n",
       "    <tr>\n",
       "      <th>2</th>\n",
       "      <td>CR_196089</td>\n",
       "      <td>1</td>\n",
       "    </tr>\n",
       "    <tr>\n",
       "      <th>3</th>\n",
       "      <td>CR_112195</td>\n",
       "      <td>1</td>\n",
       "    </tr>\n",
       "    <tr>\n",
       "      <th>4</th>\n",
       "      <td>CR_149832</td>\n",
       "      <td>1</td>\n",
       "    </tr>\n",
       "  </tbody>\n",
       "</table>\n",
       "</div>"
      ],
      "text/plain": [
       "  INCIDENT_ID  MULTIPLE_OFFENSE\n",
       "0   CR_195453                 1\n",
       "1   CR_103520                 1\n",
       "2   CR_196089                 1\n",
       "3   CR_112195                 1\n",
       "4   CR_149832                 1"
      ]
     },
     "execution_count": 159,
     "metadata": {},
     "output_type": "execute_result"
    }
   ],
   "source": [
    "df_sub.head()"
   ]
  },
  {
   "cell_type": "code",
   "execution_count": 160,
   "metadata": {},
   "outputs": [],
   "source": [
    "df_sub.to_csv('submission.csv',index=False)"
   ]
  },
  {
   "cell_type": "code",
   "execution_count": 163,
   "metadata": {},
   "outputs": [
    {
     "data": {
      "text/plain": [
       "array([1, 0, 0, 0, 1, 0, 1, 0, 1, 1], dtype=int64)"
      ]
     },
     "execution_count": 163,
     "metadata": {},
     "output_type": "execute_result"
    }
   ],
   "source": [
    "y_sub_rf_smt=rf_smt_final.predict(X)\n",
    "y_sub_rf_smt[:10]"
   ]
  },
  {
   "cell_type": "code",
   "execution_count": 165,
   "metadata": {},
   "outputs": [
    {
     "data": {
      "text/html": [
       "<div>\n",
       "<style scoped>\n",
       "    .dataframe tbody tr th:only-of-type {\n",
       "        vertical-align: middle;\n",
       "    }\n",
       "\n",
       "    .dataframe tbody tr th {\n",
       "        vertical-align: top;\n",
       "    }\n",
       "\n",
       "    .dataframe thead th {\n",
       "        text-align: right;\n",
       "    }\n",
       "</style>\n",
       "<table border=\"1\" class=\"dataframe\">\n",
       "  <thead>\n",
       "    <tr style=\"text-align: right;\">\n",
       "      <th></th>\n",
       "      <th>INCIDENT_ID</th>\n",
       "      <th>MULTIPLE_OFFENSE</th>\n",
       "    </tr>\n",
       "  </thead>\n",
       "  <tbody>\n",
       "    <tr>\n",
       "      <th>0</th>\n",
       "      <td>CR_195453</td>\n",
       "      <td>1</td>\n",
       "    </tr>\n",
       "    <tr>\n",
       "      <th>1</th>\n",
       "      <td>CR_103520</td>\n",
       "      <td>0</td>\n",
       "    </tr>\n",
       "    <tr>\n",
       "      <th>2</th>\n",
       "      <td>CR_196089</td>\n",
       "      <td>0</td>\n",
       "    </tr>\n",
       "    <tr>\n",
       "      <th>3</th>\n",
       "      <td>CR_112195</td>\n",
       "      <td>0</td>\n",
       "    </tr>\n",
       "    <tr>\n",
       "      <th>4</th>\n",
       "      <td>CR_149832</td>\n",
       "      <td>1</td>\n",
       "    </tr>\n",
       "  </tbody>\n",
       "</table>\n",
       "</div>"
      ],
      "text/plain": [
       "  INCIDENT_ID  MULTIPLE_OFFENSE\n",
       "0   CR_195453                 1\n",
       "1   CR_103520                 0\n",
       "2   CR_196089                 0\n",
       "3   CR_112195                 0\n",
       "4   CR_149832                 1"
      ]
     },
     "execution_count": 165,
     "metadata": {},
     "output_type": "execute_result"
    }
   ],
   "source": [
    "df_sub=pd.DataFrame({'INCIDENT_ID':df_test['INCIDENT_ID'],'MULTIPLE_OFFENSE':y_sub_rf_smt})\n",
    "df_sub.head()"
   ]
  },
  {
   "cell_type": "code",
   "execution_count": 166,
   "metadata": {},
   "outputs": [],
   "source": [
    "df_sub.to_csv('submission_rf_smt.csv',index=False)"
   ]
  },
  {
   "cell_type": "code",
   "execution_count": 175,
   "metadata": {},
   "outputs": [
    {
     "data": {
      "text/plain": [
       "array([1, 1, 1, 1, 1, 1, 1, 1, 1, 1], dtype=int64)"
      ]
     },
     "execution_count": 175,
     "metadata": {},
     "output_type": "execute_result"
    }
   ],
   "source": [
    "y_sub_knn=knn_imb.predict(X)\n",
    "y_sub_knn[:10]"
   ]
  },
  {
   "cell_type": "code",
   "execution_count": 176,
   "metadata": {},
   "outputs": [
    {
     "data": {
      "text/html": [
       "<div>\n",
       "<style scoped>\n",
       "    .dataframe tbody tr th:only-of-type {\n",
       "        vertical-align: middle;\n",
       "    }\n",
       "\n",
       "    .dataframe tbody tr th {\n",
       "        vertical-align: top;\n",
       "    }\n",
       "\n",
       "    .dataframe thead th {\n",
       "        text-align: right;\n",
       "    }\n",
       "</style>\n",
       "<table border=\"1\" class=\"dataframe\">\n",
       "  <thead>\n",
       "    <tr style=\"text-align: right;\">\n",
       "      <th></th>\n",
       "      <th>INCIDENT_ID</th>\n",
       "      <th>MULTIPLE_OFFENSE</th>\n",
       "    </tr>\n",
       "  </thead>\n",
       "  <tbody>\n",
       "    <tr>\n",
       "      <th>0</th>\n",
       "      <td>CR_195453</td>\n",
       "      <td>1</td>\n",
       "    </tr>\n",
       "    <tr>\n",
       "      <th>1</th>\n",
       "      <td>CR_103520</td>\n",
       "      <td>1</td>\n",
       "    </tr>\n",
       "    <tr>\n",
       "      <th>2</th>\n",
       "      <td>CR_196089</td>\n",
       "      <td>1</td>\n",
       "    </tr>\n",
       "    <tr>\n",
       "      <th>3</th>\n",
       "      <td>CR_112195</td>\n",
       "      <td>1</td>\n",
       "    </tr>\n",
       "    <tr>\n",
       "      <th>4</th>\n",
       "      <td>CR_149832</td>\n",
       "      <td>1</td>\n",
       "    </tr>\n",
       "  </tbody>\n",
       "</table>\n",
       "</div>"
      ],
      "text/plain": [
       "  INCIDENT_ID  MULTIPLE_OFFENSE\n",
       "0   CR_195453                 1\n",
       "1   CR_103520                 1\n",
       "2   CR_196089                 1\n",
       "3   CR_112195                 1\n",
       "4   CR_149832                 1"
      ]
     },
     "execution_count": 176,
     "metadata": {},
     "output_type": "execute_result"
    }
   ],
   "source": [
    "df_sub_knn=pd.DataFrame({'INCIDENT_ID':df_test['INCIDENT_ID'],'MULTIPLE_OFFENSE':y_sub_knn})\n",
    "df_sub_knn.head()"
   ]
  },
  {
   "cell_type": "code",
   "execution_count": 177,
   "metadata": {},
   "outputs": [],
   "source": [
    "df_sub_knn.to_csv('submission_knn.csv',index=False)"
   ]
  },
  {
   "cell_type": "code",
   "execution_count": 185,
   "metadata": {},
   "outputs": [
    {
     "data": {
      "text/plain": [
       "array([1, 1, 1, 1, 1, 1, 1, 1, 1, 1], dtype=int64)"
      ]
     },
     "execution_count": 185,
     "metadata": {},
     "output_type": "execute_result"
    }
   ],
   "source": [
    "y_sub_xgb=xgb_mdl.predict(X)\n",
    "y_sub_xgb[:10]"
   ]
  },
  {
   "cell_type": "code",
   "execution_count": 186,
   "metadata": {},
   "outputs": [
    {
     "data": {
      "text/html": [
       "<div>\n",
       "<style scoped>\n",
       "    .dataframe tbody tr th:only-of-type {\n",
       "        vertical-align: middle;\n",
       "    }\n",
       "\n",
       "    .dataframe tbody tr th {\n",
       "        vertical-align: top;\n",
       "    }\n",
       "\n",
       "    .dataframe thead th {\n",
       "        text-align: right;\n",
       "    }\n",
       "</style>\n",
       "<table border=\"1\" class=\"dataframe\">\n",
       "  <thead>\n",
       "    <tr style=\"text-align: right;\">\n",
       "      <th></th>\n",
       "      <th>INCIDENT_ID</th>\n",
       "      <th>MULTIPLE_OFFENSE</th>\n",
       "    </tr>\n",
       "  </thead>\n",
       "  <tbody>\n",
       "    <tr>\n",
       "      <th>0</th>\n",
       "      <td>CR_195453</td>\n",
       "      <td>1</td>\n",
       "    </tr>\n",
       "    <tr>\n",
       "      <th>1</th>\n",
       "      <td>CR_103520</td>\n",
       "      <td>1</td>\n",
       "    </tr>\n",
       "    <tr>\n",
       "      <th>2</th>\n",
       "      <td>CR_196089</td>\n",
       "      <td>1</td>\n",
       "    </tr>\n",
       "    <tr>\n",
       "      <th>3</th>\n",
       "      <td>CR_112195</td>\n",
       "      <td>1</td>\n",
       "    </tr>\n",
       "    <tr>\n",
       "      <th>4</th>\n",
       "      <td>CR_149832</td>\n",
       "      <td>1</td>\n",
       "    </tr>\n",
       "  </tbody>\n",
       "</table>\n",
       "</div>"
      ],
      "text/plain": [
       "  INCIDENT_ID  MULTIPLE_OFFENSE\n",
       "0   CR_195453                 1\n",
       "1   CR_103520                 1\n",
       "2   CR_196089                 1\n",
       "3   CR_112195                 1\n",
       "4   CR_149832                 1"
      ]
     },
     "execution_count": 186,
     "metadata": {},
     "output_type": "execute_result"
    }
   ],
   "source": [
    "df_sub_xgb=pd.DataFrame({'INCIDENT_ID':df_test['INCIDENT_ID'],'MULTIPLE_OFFENSE':y_sub_xgb})\n",
    "df_sub_xgb.head()"
   ]
  },
  {
   "cell_type": "code",
   "execution_count": 187,
   "metadata": {},
   "outputs": [],
   "source": [
    "df_sub_xgb.to_csv('submission_xgb.csv',index=False)"
   ]
  },
  {
   "cell_type": "code",
   "execution_count": null,
   "metadata": {},
   "outputs": [],
   "source": []
  }
 ],
 "metadata": {
  "kernelspec": {
   "display_name": "Python 3",
   "language": "python",
   "name": "python3"
  },
  "language_info": {
   "codemirror_mode": {
    "name": "ipython",
    "version": 3
   },
   "file_extension": ".py",
   "mimetype": "text/x-python",
   "name": "python",
   "nbconvert_exporter": "python",
   "pygments_lexer": "ipython3",
   "version": "3.7.3"
  }
 },
 "nbformat": 4,
 "nbformat_minor": 2
}
